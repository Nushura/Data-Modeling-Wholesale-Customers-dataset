{
 "cells": [
  {
   "cell_type": "markdown",
   "id": "4045f0ee",
   "metadata": {},
   "source": [
    "## Goal for the analysis:\n",
    "\n",
    "To understand the buying behaviour of consumers of a wholesale distributor. This will assist the wholesale distributor to understand the categories of products which are popular among specific Channels/consumers who are from certain regions/ cities. In addition to that, by knowing the popularity of those items, the wholesaler can stock those goods to make sure, it is always available for its consumers and also, stock similar or related products which those clients may like. This will further assist the wholesaler generate revenue.\n"
   ]
  },
  {
   "cell_type": "markdown",
   "id": "cb557ca4",
   "metadata": {},
   "source": [
    "## Task 1: Retrieving and Preparing the Data"
   ]
  },
  {
   "cell_type": "code",
   "execution_count": 1,
   "id": "9c66f601",
   "metadata": {},
   "outputs": [],
   "source": [
    "import numpy as np\n",
    "import pandas as pd\n",
    "\n",
    "from pandas import Series, DataFrame\n",
    "\n",
    "# these are imported for visualization with graph\n",
    "import matplotlib.pyplot as plt\n",
    "from matplotlib import rcParams\n",
    "\n",
    "import seaborn as sns\n",
    "# %matplotlib inline\n",
    "\n",
    "from numpy import percentile\n",
    "from numpy.random import rand\n",
    "\n",
    "import sklearn.datasets \n",
    "from sklearn.datasets import load_digits\n",
    "\n",
    "from sklearn import cluster, datasets\n"
   ]
  },
  {
   "cell_type": "code",
   "execution_count": 2,
   "id": "3b51ab5f",
   "metadata": {},
   "outputs": [],
   "source": [
    "# Loading the wholesale customers data-set from local directory\n",
    "\n",
    "wholesaler_dataset = 'C:/Users/Nushura/s3796107/Wholesale customers Data Set/Wholesale customers data.csv'\n",
    "wholesaler = pd.read_csv(wholesaler_dataset)"
   ]
  },
  {
   "cell_type": "code",
   "execution_count": 3,
   "id": "744fed6b",
   "metadata": {},
   "outputs": [
    {
     "data": {
      "text/html": [
       "<div>\n",
       "<style scoped>\n",
       "    .dataframe tbody tr th:only-of-type {\n",
       "        vertical-align: middle;\n",
       "    }\n",
       "\n",
       "    .dataframe tbody tr th {\n",
       "        vertical-align: top;\n",
       "    }\n",
       "\n",
       "    .dataframe thead th {\n",
       "        text-align: right;\n",
       "    }\n",
       "</style>\n",
       "<table border=\"1\" class=\"dataframe\">\n",
       "  <thead>\n",
       "    <tr style=\"text-align: right;\">\n",
       "      <th></th>\n",
       "      <th>Channel</th>\n",
       "      <th>Region</th>\n",
       "      <th>Fresh</th>\n",
       "      <th>Milk</th>\n",
       "      <th>Grocery</th>\n",
       "      <th>Frozen</th>\n",
       "      <th>Detergents_Paper</th>\n",
       "      <th>Delicassen</th>\n",
       "    </tr>\n",
       "  </thead>\n",
       "  <tbody>\n",
       "    <tr>\n",
       "      <th>0</th>\n",
       "      <td>2</td>\n",
       "      <td>3</td>\n",
       "      <td>12669</td>\n",
       "      <td>9656</td>\n",
       "      <td>7561</td>\n",
       "      <td>214</td>\n",
       "      <td>2674</td>\n",
       "      <td>1338</td>\n",
       "    </tr>\n",
       "    <tr>\n",
       "      <th>1</th>\n",
       "      <td>2</td>\n",
       "      <td>3</td>\n",
       "      <td>7057</td>\n",
       "      <td>9810</td>\n",
       "      <td>9568</td>\n",
       "      <td>1762</td>\n",
       "      <td>3293</td>\n",
       "      <td>1776</td>\n",
       "    </tr>\n",
       "    <tr>\n",
       "      <th>2</th>\n",
       "      <td>2</td>\n",
       "      <td>3</td>\n",
       "      <td>6353</td>\n",
       "      <td>8808</td>\n",
       "      <td>7684</td>\n",
       "      <td>2405</td>\n",
       "      <td>3516</td>\n",
       "      <td>7844</td>\n",
       "    </tr>\n",
       "    <tr>\n",
       "      <th>3</th>\n",
       "      <td>1</td>\n",
       "      <td>3</td>\n",
       "      <td>13265</td>\n",
       "      <td>1196</td>\n",
       "      <td>4221</td>\n",
       "      <td>6404</td>\n",
       "      <td>507</td>\n",
       "      <td>1788</td>\n",
       "    </tr>\n",
       "    <tr>\n",
       "      <th>4</th>\n",
       "      <td>2</td>\n",
       "      <td>3</td>\n",
       "      <td>22615</td>\n",
       "      <td>5410</td>\n",
       "      <td>7198</td>\n",
       "      <td>3915</td>\n",
       "      <td>1777</td>\n",
       "      <td>5185</td>\n",
       "    </tr>\n",
       "    <tr>\n",
       "      <th>...</th>\n",
       "      <td>...</td>\n",
       "      <td>...</td>\n",
       "      <td>...</td>\n",
       "      <td>...</td>\n",
       "      <td>...</td>\n",
       "      <td>...</td>\n",
       "      <td>...</td>\n",
       "      <td>...</td>\n",
       "    </tr>\n",
       "    <tr>\n",
       "      <th>435</th>\n",
       "      <td>1</td>\n",
       "      <td>3</td>\n",
       "      <td>29703</td>\n",
       "      <td>12051</td>\n",
       "      <td>16027</td>\n",
       "      <td>13135</td>\n",
       "      <td>182</td>\n",
       "      <td>2204</td>\n",
       "    </tr>\n",
       "    <tr>\n",
       "      <th>436</th>\n",
       "      <td>1</td>\n",
       "      <td>3</td>\n",
       "      <td>39228</td>\n",
       "      <td>1431</td>\n",
       "      <td>764</td>\n",
       "      <td>4510</td>\n",
       "      <td>93</td>\n",
       "      <td>2346</td>\n",
       "    </tr>\n",
       "    <tr>\n",
       "      <th>437</th>\n",
       "      <td>2</td>\n",
       "      <td>3</td>\n",
       "      <td>14531</td>\n",
       "      <td>15488</td>\n",
       "      <td>30243</td>\n",
       "      <td>437</td>\n",
       "      <td>14841</td>\n",
       "      <td>1867</td>\n",
       "    </tr>\n",
       "    <tr>\n",
       "      <th>438</th>\n",
       "      <td>1</td>\n",
       "      <td>3</td>\n",
       "      <td>10290</td>\n",
       "      <td>1981</td>\n",
       "      <td>2232</td>\n",
       "      <td>1038</td>\n",
       "      <td>168</td>\n",
       "      <td>2125</td>\n",
       "    </tr>\n",
       "    <tr>\n",
       "      <th>439</th>\n",
       "      <td>1</td>\n",
       "      <td>3</td>\n",
       "      <td>2787</td>\n",
       "      <td>1698</td>\n",
       "      <td>2510</td>\n",
       "      <td>65</td>\n",
       "      <td>477</td>\n",
       "      <td>52</td>\n",
       "    </tr>\n",
       "  </tbody>\n",
       "</table>\n",
       "<p>440 rows × 8 columns</p>\n",
       "</div>"
      ],
      "text/plain": [
       "     Channel  Region  Fresh   Milk  Grocery  Frozen  Detergents_Paper  \\\n",
       "0          2       3  12669   9656     7561     214              2674   \n",
       "1          2       3   7057   9810     9568    1762              3293   \n",
       "2          2       3   6353   8808     7684    2405              3516   \n",
       "3          1       3  13265   1196     4221    6404               507   \n",
       "4          2       3  22615   5410     7198    3915              1777   \n",
       "..       ...     ...    ...    ...      ...     ...               ...   \n",
       "435        1       3  29703  12051    16027   13135               182   \n",
       "436        1       3  39228   1431      764    4510                93   \n",
       "437        2       3  14531  15488    30243     437             14841   \n",
       "438        1       3  10290   1981     2232    1038               168   \n",
       "439        1       3   2787   1698     2510      65               477   \n",
       "\n",
       "     Delicassen  \n",
       "0          1338  \n",
       "1          1776  \n",
       "2          7844  \n",
       "3          1788  \n",
       "4          5185  \n",
       "..          ...  \n",
       "435        2204  \n",
       "436        2346  \n",
       "437        1867  \n",
       "438        2125  \n",
       "439          52  \n",
       "\n",
       "[440 rows x 8 columns]"
      ]
     },
     "execution_count": 3,
     "metadata": {},
     "output_type": "execute_result"
    }
   ],
   "source": [
    "# Viewing the wholesaler dataframe\n",
    "wholesaler"
   ]
  },
  {
   "cell_type": "code",
   "execution_count": 4,
   "id": "90a23024",
   "metadata": {},
   "outputs": [
    {
     "data": {
      "text/plain": [
       "Channel             int64\n",
       "Region              int64\n",
       "Fresh               int64\n",
       "Milk                int64\n",
       "Grocery             int64\n",
       "Frozen              int64\n",
       "Detergents_Paper    int64\n",
       "Delicassen          int64\n",
       "dtype: object"
      ]
     },
     "execution_count": 4,
     "metadata": {},
     "output_type": "execute_result"
    }
   ],
   "source": [
    "# Checking the datatypes in the dataframe\n",
    "wholesaler.dtypes\n",
    "\n",
    "# The result of this code indicates that all the data types of the wholesaler dataste has integer values"
   ]
  },
  {
   "cell_type": "code",
   "execution_count": 5,
   "id": "a9fbd658",
   "metadata": {},
   "outputs": [
    {
     "data": {
      "text/plain": [
       "(440, 8)"
      ]
     },
     "execution_count": 5,
     "metadata": {},
     "output_type": "execute_result"
    }
   ],
   "source": [
    "# Checking the size of the dataset\n",
    "# This indicates the number of indexes the dataframe contains which is 440 \n",
    "# and the number of total attributes the data set has which is 8.\n",
    "wholesaler.shape"
   ]
  },
  {
   "cell_type": "code",
   "execution_count": 6,
   "id": "7c7a46b3",
   "metadata": {
    "scrolled": true
   },
   "outputs": [
    {
     "data": {
      "text/html": [
       "<div>\n",
       "<style scoped>\n",
       "    .dataframe tbody tr th:only-of-type {\n",
       "        vertical-align: middle;\n",
       "    }\n",
       "\n",
       "    .dataframe tbody tr th {\n",
       "        vertical-align: top;\n",
       "    }\n",
       "\n",
       "    .dataframe thead th {\n",
       "        text-align: right;\n",
       "    }\n",
       "</style>\n",
       "<table border=\"1\" class=\"dataframe\">\n",
       "  <thead>\n",
       "    <tr style=\"text-align: right;\">\n",
       "      <th></th>\n",
       "      <th>Channel</th>\n",
       "      <th>Region</th>\n",
       "      <th>Fresh</th>\n",
       "      <th>Milk</th>\n",
       "      <th>Grocery</th>\n",
       "      <th>Frozen</th>\n",
       "      <th>Detergents_Paper</th>\n",
       "      <th>Delicassen</th>\n",
       "    </tr>\n",
       "  </thead>\n",
       "  <tbody>\n",
       "    <tr>\n",
       "      <th>0</th>\n",
       "      <td>2</td>\n",
       "      <td>3</td>\n",
       "      <td>12669</td>\n",
       "      <td>9656</td>\n",
       "      <td>7561</td>\n",
       "      <td>214</td>\n",
       "      <td>2674</td>\n",
       "      <td>1338</td>\n",
       "    </tr>\n",
       "    <tr>\n",
       "      <th>1</th>\n",
       "      <td>2</td>\n",
       "      <td>3</td>\n",
       "      <td>7057</td>\n",
       "      <td>9810</td>\n",
       "      <td>9568</td>\n",
       "      <td>1762</td>\n",
       "      <td>3293</td>\n",
       "      <td>1776</td>\n",
       "    </tr>\n",
       "    <tr>\n",
       "      <th>2</th>\n",
       "      <td>2</td>\n",
       "      <td>3</td>\n",
       "      <td>6353</td>\n",
       "      <td>8808</td>\n",
       "      <td>7684</td>\n",
       "      <td>2405</td>\n",
       "      <td>3516</td>\n",
       "      <td>7844</td>\n",
       "    </tr>\n",
       "    <tr>\n",
       "      <th>3</th>\n",
       "      <td>1</td>\n",
       "      <td>3</td>\n",
       "      <td>13265</td>\n",
       "      <td>1196</td>\n",
       "      <td>4221</td>\n",
       "      <td>6404</td>\n",
       "      <td>507</td>\n",
       "      <td>1788</td>\n",
       "    </tr>\n",
       "    <tr>\n",
       "      <th>4</th>\n",
       "      <td>2</td>\n",
       "      <td>3</td>\n",
       "      <td>22615</td>\n",
       "      <td>5410</td>\n",
       "      <td>7198</td>\n",
       "      <td>3915</td>\n",
       "      <td>1777</td>\n",
       "      <td>5185</td>\n",
       "    </tr>\n",
       "    <tr>\n",
       "      <th>...</th>\n",
       "      <td>...</td>\n",
       "      <td>...</td>\n",
       "      <td>...</td>\n",
       "      <td>...</td>\n",
       "      <td>...</td>\n",
       "      <td>...</td>\n",
       "      <td>...</td>\n",
       "      <td>...</td>\n",
       "    </tr>\n",
       "    <tr>\n",
       "      <th>435</th>\n",
       "      <td>1</td>\n",
       "      <td>3</td>\n",
       "      <td>29703</td>\n",
       "      <td>12051</td>\n",
       "      <td>16027</td>\n",
       "      <td>13135</td>\n",
       "      <td>182</td>\n",
       "      <td>2204</td>\n",
       "    </tr>\n",
       "    <tr>\n",
       "      <th>436</th>\n",
       "      <td>1</td>\n",
       "      <td>3</td>\n",
       "      <td>39228</td>\n",
       "      <td>1431</td>\n",
       "      <td>764</td>\n",
       "      <td>4510</td>\n",
       "      <td>93</td>\n",
       "      <td>2346</td>\n",
       "    </tr>\n",
       "    <tr>\n",
       "      <th>437</th>\n",
       "      <td>2</td>\n",
       "      <td>3</td>\n",
       "      <td>14531</td>\n",
       "      <td>15488</td>\n",
       "      <td>30243</td>\n",
       "      <td>437</td>\n",
       "      <td>14841</td>\n",
       "      <td>1867</td>\n",
       "    </tr>\n",
       "    <tr>\n",
       "      <th>438</th>\n",
       "      <td>1</td>\n",
       "      <td>3</td>\n",
       "      <td>10290</td>\n",
       "      <td>1981</td>\n",
       "      <td>2232</td>\n",
       "      <td>1038</td>\n",
       "      <td>168</td>\n",
       "      <td>2125</td>\n",
       "    </tr>\n",
       "    <tr>\n",
       "      <th>439</th>\n",
       "      <td>1</td>\n",
       "      <td>3</td>\n",
       "      <td>2787</td>\n",
       "      <td>1698</td>\n",
       "      <td>2510</td>\n",
       "      <td>65</td>\n",
       "      <td>477</td>\n",
       "      <td>52</td>\n",
       "    </tr>\n",
       "  </tbody>\n",
       "</table>\n",
       "<p>440 rows × 8 columns</p>\n",
       "</div>"
      ],
      "text/plain": [
       "     Channel  Region  Fresh   Milk  Grocery  Frozen  Detergents_Paper  \\\n",
       "0          2       3  12669   9656     7561     214              2674   \n",
       "1          2       3   7057   9810     9568    1762              3293   \n",
       "2          2       3   6353   8808     7684    2405              3516   \n",
       "3          1       3  13265   1196     4221    6404               507   \n",
       "4          2       3  22615   5410     7198    3915              1777   \n",
       "..       ...     ...    ...    ...      ...     ...               ...   \n",
       "435        1       3  29703  12051    16027   13135               182   \n",
       "436        1       3  39228   1431      764    4510                93   \n",
       "437        2       3  14531  15488    30243     437             14841   \n",
       "438        1       3  10290   1981     2232    1038               168   \n",
       "439        1       3   2787   1698     2510      65               477   \n",
       "\n",
       "     Delicassen  \n",
       "0          1338  \n",
       "1          1776  \n",
       "2          7844  \n",
       "3          1788  \n",
       "4          5185  \n",
       "..          ...  \n",
       "435        2204  \n",
       "436        2346  \n",
       "437        1867  \n",
       "438        2125  \n",
       "439          52  \n",
       "\n",
       "[440 rows x 8 columns]"
      ]
     },
     "execution_count": 6,
     "metadata": {},
     "output_type": "execute_result"
    }
   ],
   "source": [
    "# Filtering out missing values\n",
    "\n",
    "# this will drop all rows from the table that has any missing values\n",
    "# by using dropna() method\n",
    "\n",
    "wholesaler = wholesaler.dropna()\n",
    "wholesaler\n",
    "\n",
    "\n",
    "# After doing this it can be seen that the number of rows did not change at all.\n",
    "# This means that there are not missing values"
   ]
  },
  {
   "cell_type": "code",
   "execution_count": 7,
   "id": "4b12f4ae",
   "metadata": {},
   "outputs": [
    {
     "data": {
      "text/html": [
       "<div>\n",
       "<style scoped>\n",
       "    .dataframe tbody tr th:only-of-type {\n",
       "        vertical-align: middle;\n",
       "    }\n",
       "\n",
       "    .dataframe tbody tr th {\n",
       "        vertical-align: top;\n",
       "    }\n",
       "\n",
       "    .dataframe thead th {\n",
       "        text-align: right;\n",
       "    }\n",
       "</style>\n",
       "<table border=\"1\" class=\"dataframe\">\n",
       "  <thead>\n",
       "    <tr style=\"text-align: right;\">\n",
       "      <th></th>\n",
       "      <th>Channel</th>\n",
       "      <th>Region</th>\n",
       "      <th>Fresh</th>\n",
       "      <th>Milk</th>\n",
       "      <th>Grocery</th>\n",
       "      <th>Frozen</th>\n",
       "      <th>Detergents_Paper</th>\n",
       "      <th>Delicassen</th>\n",
       "    </tr>\n",
       "  </thead>\n",
       "  <tbody>\n",
       "    <tr>\n",
       "      <th>0</th>\n",
       "      <td>2</td>\n",
       "      <td>3</td>\n",
       "      <td>12669</td>\n",
       "      <td>9656</td>\n",
       "      <td>7561</td>\n",
       "      <td>214</td>\n",
       "      <td>2674</td>\n",
       "      <td>1338</td>\n",
       "    </tr>\n",
       "    <tr>\n",
       "      <th>1</th>\n",
       "      <td>2</td>\n",
       "      <td>3</td>\n",
       "      <td>7057</td>\n",
       "      <td>9810</td>\n",
       "      <td>9568</td>\n",
       "      <td>1762</td>\n",
       "      <td>3293</td>\n",
       "      <td>1776</td>\n",
       "    </tr>\n",
       "    <tr>\n",
       "      <th>2</th>\n",
       "      <td>2</td>\n",
       "      <td>3</td>\n",
       "      <td>6353</td>\n",
       "      <td>8808</td>\n",
       "      <td>7684</td>\n",
       "      <td>2405</td>\n",
       "      <td>3516</td>\n",
       "      <td>7844</td>\n",
       "    </tr>\n",
       "    <tr>\n",
       "      <th>3</th>\n",
       "      <td>1</td>\n",
       "      <td>3</td>\n",
       "      <td>13265</td>\n",
       "      <td>1196</td>\n",
       "      <td>4221</td>\n",
       "      <td>6404</td>\n",
       "      <td>507</td>\n",
       "      <td>1788</td>\n",
       "    </tr>\n",
       "    <tr>\n",
       "      <th>4</th>\n",
       "      <td>2</td>\n",
       "      <td>3</td>\n",
       "      <td>22615</td>\n",
       "      <td>5410</td>\n",
       "      <td>7198</td>\n",
       "      <td>3915</td>\n",
       "      <td>1777</td>\n",
       "      <td>5185</td>\n",
       "    </tr>\n",
       "    <tr>\n",
       "      <th>...</th>\n",
       "      <td>...</td>\n",
       "      <td>...</td>\n",
       "      <td>...</td>\n",
       "      <td>...</td>\n",
       "      <td>...</td>\n",
       "      <td>...</td>\n",
       "      <td>...</td>\n",
       "      <td>...</td>\n",
       "    </tr>\n",
       "    <tr>\n",
       "      <th>435</th>\n",
       "      <td>1</td>\n",
       "      <td>3</td>\n",
       "      <td>29703</td>\n",
       "      <td>12051</td>\n",
       "      <td>16027</td>\n",
       "      <td>13135</td>\n",
       "      <td>182</td>\n",
       "      <td>2204</td>\n",
       "    </tr>\n",
       "    <tr>\n",
       "      <th>436</th>\n",
       "      <td>1</td>\n",
       "      <td>3</td>\n",
       "      <td>39228</td>\n",
       "      <td>1431</td>\n",
       "      <td>764</td>\n",
       "      <td>4510</td>\n",
       "      <td>93</td>\n",
       "      <td>2346</td>\n",
       "    </tr>\n",
       "    <tr>\n",
       "      <th>437</th>\n",
       "      <td>2</td>\n",
       "      <td>3</td>\n",
       "      <td>14531</td>\n",
       "      <td>15488</td>\n",
       "      <td>30243</td>\n",
       "      <td>437</td>\n",
       "      <td>14841</td>\n",
       "      <td>1867</td>\n",
       "    </tr>\n",
       "    <tr>\n",
       "      <th>438</th>\n",
       "      <td>1</td>\n",
       "      <td>3</td>\n",
       "      <td>10290</td>\n",
       "      <td>1981</td>\n",
       "      <td>2232</td>\n",
       "      <td>1038</td>\n",
       "      <td>168</td>\n",
       "      <td>2125</td>\n",
       "    </tr>\n",
       "    <tr>\n",
       "      <th>439</th>\n",
       "      <td>1</td>\n",
       "      <td>3</td>\n",
       "      <td>2787</td>\n",
       "      <td>1698</td>\n",
       "      <td>2510</td>\n",
       "      <td>65</td>\n",
       "      <td>477</td>\n",
       "      <td>52</td>\n",
       "    </tr>\n",
       "  </tbody>\n",
       "</table>\n",
       "<p>440 rows × 8 columns</p>\n",
       "</div>"
      ],
      "text/plain": [
       "     Channel  Region  Fresh   Milk  Grocery  Frozen  Detergents_Paper  \\\n",
       "0          2       3  12669   9656     7561     214              2674   \n",
       "1          2       3   7057   9810     9568    1762              3293   \n",
       "2          2       3   6353   8808     7684    2405              3516   \n",
       "3          1       3  13265   1196     4221    6404               507   \n",
       "4          2       3  22615   5410     7198    3915              1777   \n",
       "..       ...     ...    ...    ...      ...     ...               ...   \n",
       "435        1       3  29703  12051    16027   13135               182   \n",
       "436        1       3  39228   1431      764    4510                93   \n",
       "437        2       3  14531  15488    30243     437             14841   \n",
       "438        1       3  10290   1981     2232    1038               168   \n",
       "439        1       3   2787   1698     2510      65               477   \n",
       "\n",
       "     Delicassen  \n",
       "0          1338  \n",
       "1          1776  \n",
       "2          7844  \n",
       "3          1788  \n",
       "4          5185  \n",
       "..          ...  \n",
       "435        2204  \n",
       "436        2346  \n",
       "437        1867  \n",
       "438        2125  \n",
       "439          52  \n",
       "\n",
       "[440 rows x 8 columns]"
      ]
     },
     "execution_count": 7,
     "metadata": {},
     "output_type": "execute_result"
    }
   ],
   "source": [
    "wholesaler.drop_duplicates()"
   ]
  },
  {
   "cell_type": "code",
   "execution_count": 8,
   "id": "e8473f3f",
   "metadata": {},
   "outputs": [
    {
     "data": {
      "text/html": [
       "<div>\n",
       "<style scoped>\n",
       "    .dataframe tbody tr th:only-of-type {\n",
       "        vertical-align: middle;\n",
       "    }\n",
       "\n",
       "    .dataframe tbody tr th {\n",
       "        vertical-align: top;\n",
       "    }\n",
       "\n",
       "    .dataframe thead th {\n",
       "        text-align: right;\n",
       "    }\n",
       "</style>\n",
       "<table border=\"1\" class=\"dataframe\">\n",
       "  <thead>\n",
       "    <tr style=\"text-align: right;\">\n",
       "      <th></th>\n",
       "      <th></th>\n",
       "      <th>Fresh</th>\n",
       "      <th>Milk</th>\n",
       "      <th>Grocery</th>\n",
       "      <th>Frozen</th>\n",
       "      <th>Detergents_Paper</th>\n",
       "      <th>Delicassen</th>\n",
       "    </tr>\n",
       "    <tr>\n",
       "      <th>Channel</th>\n",
       "      <th>Region</th>\n",
       "      <th></th>\n",
       "      <th></th>\n",
       "      <th></th>\n",
       "      <th></th>\n",
       "      <th></th>\n",
       "      <th></th>\n",
       "    </tr>\n",
       "  </thead>\n",
       "  <tbody>\n",
       "    <tr>\n",
       "      <th rowspan=\"3\" valign=\"top\">1</th>\n",
       "      <th>1</th>\n",
       "      <td>12902.254237</td>\n",
       "      <td>3870.203390</td>\n",
       "      <td>4026.135593</td>\n",
       "      <td>3127.322034</td>\n",
       "      <td>950.525424</td>\n",
       "      <td>1197.152542</td>\n",
       "    </tr>\n",
       "    <tr>\n",
       "      <th>2</th>\n",
       "      <td>11650.535714</td>\n",
       "      <td>2304.250000</td>\n",
       "      <td>4395.500000</td>\n",
       "      <td>5745.035714</td>\n",
       "      <td>482.714286</td>\n",
       "      <td>1105.892857</td>\n",
       "    </tr>\n",
       "    <tr>\n",
       "      <th>3</th>\n",
       "      <td>13878.052133</td>\n",
       "      <td>3486.981043</td>\n",
       "      <td>3886.734597</td>\n",
       "      <td>3656.900474</td>\n",
       "      <td>786.682464</td>\n",
       "      <td>1518.284360</td>\n",
       "    </tr>\n",
       "    <tr>\n",
       "      <th rowspan=\"3\" valign=\"top\">2</th>\n",
       "      <th>1</th>\n",
       "      <td>5200.000000</td>\n",
       "      <td>10784.000000</td>\n",
       "      <td>18471.944444</td>\n",
       "      <td>2584.111111</td>\n",
       "      <td>8225.277778</td>\n",
       "      <td>1871.944444</td>\n",
       "    </tr>\n",
       "    <tr>\n",
       "      <th>2</th>\n",
       "      <td>7289.789474</td>\n",
       "      <td>9190.789474</td>\n",
       "      <td>16326.315789</td>\n",
       "      <td>1540.578947</td>\n",
       "      <td>8410.263158</td>\n",
       "      <td>1239.000000</td>\n",
       "    </tr>\n",
       "    <tr>\n",
       "      <th>3</th>\n",
       "      <td>9831.504762</td>\n",
       "      <td>10981.009524</td>\n",
       "      <td>15953.809524</td>\n",
       "      <td>1513.200000</td>\n",
       "      <td>6899.238095</td>\n",
       "      <td>1826.209524</td>\n",
       "    </tr>\n",
       "  </tbody>\n",
       "</table>\n",
       "</div>"
      ],
      "text/plain": [
       "                       Fresh          Milk       Grocery       Frozen  \\\n",
       "Channel Region                                                          \n",
       "1       1       12902.254237   3870.203390   4026.135593  3127.322034   \n",
       "        2       11650.535714   2304.250000   4395.500000  5745.035714   \n",
       "        3       13878.052133   3486.981043   3886.734597  3656.900474   \n",
       "2       1        5200.000000  10784.000000  18471.944444  2584.111111   \n",
       "        2        7289.789474   9190.789474  16326.315789  1540.578947   \n",
       "        3        9831.504762  10981.009524  15953.809524  1513.200000   \n",
       "\n",
       "                Detergents_Paper   Delicassen  \n",
       "Channel Region                                 \n",
       "1       1             950.525424  1197.152542  \n",
       "        2             482.714286  1105.892857  \n",
       "        3             786.682464  1518.284360  \n",
       "2       1            8225.277778  1871.944444  \n",
       "        2            8410.263158  1239.000000  \n",
       "        3            6899.238095  1826.209524  "
      ]
     },
     "execution_count": 8,
     "metadata": {},
     "output_type": "execute_result"
    }
   ],
   "source": [
    "wholesaler_grouped = wholesaler.groupby(['Channel','Region'])\n",
    "wholesaler_grouped.mean()"
   ]
  },
  {
   "cell_type": "markdown",
   "id": "0d8d68c3",
   "metadata": {},
   "source": [
    "## Box-plots to find outliers within the dataset"
   ]
  },
  {
   "cell_type": "markdown",
   "id": "03ea0f7c",
   "metadata": {},
   "source": [
    "# Fresh column "
   ]
  },
  {
   "cell_type": "code",
   "execution_count": 9,
   "id": "fabaa794",
   "metadata": {},
   "outputs": [
    {
     "name": "stderr",
     "output_type": "stream",
     "text": [
      "C:\\Users\\Nushura\\Python\\lib\\site-packages\\seaborn\\_decorators.py:36: FutureWarning: Pass the following variable as a keyword arg: x. From version 0.12, the only valid positional argument will be `data`, and passing other arguments without an explicit keyword will result in an error or misinterpretation.\n",
      "  warnings.warn(\n"
     ]
    },
    {
     "data": {
      "text/plain": [
       "<AxesSubplot:xlabel='Fresh'>"
      ]
     },
     "execution_count": 9,
     "metadata": {},
     "output_type": "execute_result"
    },
    {
     "data": {
      "image/png": "[encoded data removed]",
      "text/plain": [
       "<Figure size 432x288 with 1 Axes>"
      ]
     },
     "metadata": {
      "needs_background": "light"
     },
     "output_type": "display_data"
    }
   ],
   "source": [
    "# Fresh\n",
    "# Initial pre-cleaned box plot of fresh\n",
    "# using the seaborn library\n",
    "sns.boxplot(wholesaler['Fresh'])"
   ]
  },
  {
   "cell_type": "code",
   "execution_count": 10,
   "id": "9b14ca24",
   "metadata": {},
   "outputs": [
    {
     "name": "stderr",
     "output_type": "stream",
     "text": [
      "C:\\Users\\Nushura\\Python\\lib\\site-packages\\seaborn\\_decorators.py:36: FutureWarning: Pass the following variable as a keyword arg: x. From version 0.12, the only valid positional argument will be `data`, and passing other arguments without an explicit keyword will result in an error or misinterpretation.\n",
      "  warnings.warn(\n"
     ]
    },
    {
     "data": {
      "image/png": "[encoded data removed]",
      "text/plain": [
       "<Figure size 720x144 with 1 Axes>"
      ]
     },
     "metadata": {},
     "output_type": "display_data"
    }
   ],
   "source": [
    "# Styling\n",
    "sns.set(style='white')\n",
    "\n",
    "# Setting figure size\n",
    "fig, ax = plt.subplots(figsize=(10, 2))\n",
    "\n",
    "# Boxplot of Fresh column\n",
    "# Setting the color to be plum and width \n",
    "sns.boxplot(wholesaler['Fresh'], color=\"plum\", width=.6)\n",
    "\n",
    "# Labeling of title and x-axis\n",
    "plt.title('Fresh Boxplot', fontsize=14)\n",
    "plt.xlabel('Fresh')\n",
    "\n",
    "# This is to remove the borders around the boxplot\n",
    "sns.despine()\n",
    "\n",
    "# Setting x limit\n",
    "plt.xlim([-180, 39000])\n",
    "\n",
    "plt.show()"
   ]
  },
  {
   "cell_type": "code",
   "execution_count": 11,
   "id": "85cd8908",
   "metadata": {},
   "outputs": [],
   "source": [
    "# This code is enabling all the values before -180 and after 38000 to be removed\n",
    "# As those values are acting as outliers\n",
    "# Thus, after removing those values, the new dataset is being stored in 'new_fresh'\n",
    "new_fresh = wholesaler[wholesaler['Fresh'].between(-180,38000)]"
   ]
  },
  {
   "cell_type": "code",
   "execution_count": 12,
   "id": "ce5f9085",
   "metadata": {},
   "outputs": [
    {
     "name": "stderr",
     "output_type": "stream",
     "text": [
      "C:\\Users\\Nushura\\Python\\lib\\site-packages\\seaborn\\_decorators.py:36: FutureWarning: Pass the following variable as a keyword arg: x. From version 0.12, the only valid positional argument will be `data`, and passing other arguments without an explicit keyword will result in an error or misinterpretation.\n",
      "  warnings.warn(\n"
     ]
    },
    {
     "data": {
      "image/png": "[encoded data removed]",
      "text/plain": [
       "<Figure size 720x144 with 1 Axes>"
      ]
     },
     "metadata": {},
     "output_type": "display_data"
    }
   ],
   "source": [
    "sns.set(style='white')\n",
    "\n",
    "fig, ax = plt.subplots(figsize=(10, 2))\n",
    "\n",
    "sns.boxplot(new_fresh['Fresh'], color=\"plum\", width=.6)\n",
    "\n",
    "plt.title('Fresh Boxplot', fontsize=13)\n",
    "plt.xlabel('Fresh')\n",
    "\n",
    "# to remove the border around the box plot graph\n",
    "sns.despine()\n",
    "\n",
    "plt.xlim([-180, 35000])\n",
    "\n",
    "plt.show()"
   ]
  },
  {
   "cell_type": "code",
   "execution_count": 13,
   "id": "67ad5873",
   "metadata": {},
   "outputs": [],
   "source": [
    "# This code is enabling all the values before -180 and after 34000 to be removed from Fresh column\n",
    "# As those values are acting as outliers\n",
    "# Thus, after removing those values, the new dataset is being stored in 'new_fresh2'\n",
    "new_fresh2 = wholesaler[wholesaler['Fresh'].between(-180,34000)]"
   ]
  },
  {
   "cell_type": "code",
   "execution_count": 14,
   "id": "c4fcc406",
   "metadata": {},
   "outputs": [
    {
     "name": "stderr",
     "output_type": "stream",
     "text": [
      "C:\\Users\\Nushura\\Python\\lib\\site-packages\\seaborn\\_decorators.py:36: FutureWarning: Pass the following variable as a keyword arg: x. From version 0.12, the only valid positional argument will be `data`, and passing other arguments without an explicit keyword will result in an error or misinterpretation.\n",
      "  warnings.warn(\n"
     ]
    },
    {
     "data": {
      "image/png": "[encoded data removed]",
      "text/plain": [
       "<Figure size 720x144 with 1 Axes>"
      ]
     },
     "metadata": {},
     "output_type": "display_data"
    }
   ],
   "source": [
    "sns.set(style='white')\n",
    "\n",
    "fig, ax = plt.subplots(figsize=(10, 2))\n",
    "\n",
    "sns.boxplot(new_fresh2['Fresh'], color=\"plum\", width=.6)\n",
    "\n",
    "plt.title('Fresh Boxplot', fontsize=13)\n",
    "plt.xlabel('Fresh')\n",
    "\n",
    "# to remove the border around the box plot graph\n",
    "sns.despine()\n",
    "\n",
    "plt.xlim([-180, 33000])\n",
    "\n",
    "plt.show()"
   ]
  },
  {
   "cell_type": "code",
   "execution_count": 15,
   "id": "3313aa78",
   "metadata": {},
   "outputs": [],
   "source": [
    "# This code is enabling all the values before -180 and after 32000 to be removed from fresh column\n",
    "# As those values are acting as outliers\n",
    "# Thus, after removing those values, the new dataset is being stored in 'new_fresh3'\n",
    "new_fresh3 = wholesaler[wholesaler['Fresh'].between(-180,32000)]"
   ]
  },
  {
   "cell_type": "code",
   "execution_count": 16,
   "id": "5b47d094",
   "metadata": {},
   "outputs": [
    {
     "name": "stderr",
     "output_type": "stream",
     "text": [
      "C:\\Users\\Nushura\\Python\\lib\\site-packages\\seaborn\\_decorators.py:36: FutureWarning: Pass the following variable as a keyword arg: x. From version 0.12, the only valid positional argument will be `data`, and passing other arguments without an explicit keyword will result in an error or misinterpretation.\n",
      "  warnings.warn(\n"
     ]
    },
    {
     "data": {
      "image/png": "[encoded data removed]",
      "text/plain": [
       "<Figure size 720x144 with 1 Axes>"
      ]
     },
     "metadata": {},
     "output_type": "display_data"
    }
   ],
   "source": [
    "sns.set(style='white')\n",
    "\n",
    "fig, ax = plt.subplots(figsize=(10, 2))\n",
    "\n",
    "sns.boxplot(new_fresh3['Fresh'], color=\"plum\", width=.6)\n",
    "\n",
    "plt.title('Fresh Boxplot', fontsize=13)\n",
    "plt.xlabel('Fresh')\n",
    "\n",
    "# to remove the border around the box plot graph\n",
    "sns.despine()\n",
    "\n",
    "plt.xlim([-180, 33000])\n",
    "\n",
    "plt.show()"
   ]
  },
  {
   "cell_type": "markdown",
   "id": "0668e8ac",
   "metadata": {},
   "source": [
    "# Milk Column"
   ]
  },
  {
   "cell_type": "code",
   "execution_count": 17,
   "id": "0f878638",
   "metadata": {},
   "outputs": [
    {
     "name": "stderr",
     "output_type": "stream",
     "text": [
      "C:\\Users\\Nushura\\Python\\lib\\site-packages\\seaborn\\_decorators.py:36: FutureWarning: Pass the following variable as a keyword arg: x. From version 0.12, the only valid positional argument will be `data`, and passing other arguments without an explicit keyword will result in an error or misinterpretation.\n",
      "  warnings.warn(\n"
     ]
    },
    {
     "data": {
      "text/plain": [
       "<AxesSubplot:xlabel='Milk'>"
      ]
     },
     "execution_count": 17,
     "metadata": {},
     "output_type": "execute_result"
    },
    {
     "data": {
      "image/png": "[encoded data removed]",
      "text/plain": [
       "<Figure size 432x288 with 1 Axes>"
      ]
     },
     "metadata": {},
     "output_type": "display_data"
    }
   ],
   "source": [
    "# Initial pre-cleaned box plot of milk\n",
    "# using the seaborn library\n",
    "sns.boxplot(wholesaler['Milk'])"
   ]
  },
  {
   "cell_type": "code",
   "execution_count": 18,
   "id": "9d2174ff",
   "metadata": {},
   "outputs": [
    {
     "name": "stderr",
     "output_type": "stream",
     "text": [
      "C:\\Users\\Nushura\\Python\\lib\\site-packages\\seaborn\\_decorators.py:36: FutureWarning: Pass the following variable as a keyword arg: x. From version 0.12, the only valid positional argument will be `data`, and passing other arguments without an explicit keyword will result in an error or misinterpretation.\n",
      "  warnings.warn(\n"
     ]
    },
    {
     "data": {
      "image/png": "[encoded data removed]",
      "text/plain": [
       "<Figure size 720x144 with 1 Axes>"
      ]
     },
     "metadata": {},
     "output_type": "display_data"
    }
   ],
   "source": [
    "# Styling\n",
    "sns.set(style='white')\n",
    "\n",
    "# Setting figure size\n",
    "fig, ax = plt.subplots(figsize=(10, 2))\n",
    "\n",
    "# Boxplot of milk column\n",
    "# Setting the color to be plum and width \n",
    "sns.boxplot(wholesaler['Milk'], color=\"plum\", width=.6)\n",
    "\n",
    "# Labeling of title and x-axis\n",
    "plt.title('Milk Boxplot', fontsize=14)\n",
    "plt.xlabel('Milk')\n",
    "\n",
    "# This is to remove the borders around the boxplot\n",
    "sns.despine()\n",
    "\n",
    "# Setting x limit\n",
    "plt.xlim([-120, 16000])\n",
    "\n",
    "plt.show()"
   ]
  },
  {
   "cell_type": "code",
   "execution_count": 19,
   "id": "81da6b7f",
   "metadata": {},
   "outputs": [],
   "source": [
    "# This code is enabling all the values before -120 and after 15500 to be removed\n",
    "# As those values are acting as outliers\n",
    "# Thus, after removing those values, the new dataset is being stored in 'new_milk'\n",
    "new_milk = wholesaler[wholesaler['Milk'].between(-120,15500)]"
   ]
  },
  {
   "cell_type": "code",
   "execution_count": 20,
   "id": "1c1458a5",
   "metadata": {},
   "outputs": [
    {
     "name": "stderr",
     "output_type": "stream",
     "text": [
      "C:\\Users\\Nushura\\Python\\lib\\site-packages\\seaborn\\_decorators.py:36: FutureWarning: Pass the following variable as a keyword arg: x. From version 0.12, the only valid positional argument will be `data`, and passing other arguments without an explicit keyword will result in an error or misinterpretation.\n",
      "  warnings.warn(\n"
     ]
    },
    {
     "data": {
      "image/png": "[encoded data removed]",
      "text/plain": [
       "<Figure size 720x144 with 1 Axes>"
      ]
     },
     "metadata": {},
     "output_type": "display_data"
    }
   ],
   "source": [
    "# Styling\n",
    "sns.set(style='white')\n",
    "\n",
    "# Setting figure size\n",
    "fig, ax = plt.subplots(figsize=(10, 2))\n",
    "\n",
    "# Boxplot of milk column\n",
    "# Setting the color to be plum and width \n",
    "sns.boxplot(new_milk['Milk'], color=\"plum\", width=.6)\n",
    "\n",
    "# Labeling of title and x-axis\n",
    "plt.title('Milk Boxplot', fontsize=14)\n",
    "plt.xlabel('Milk')\n",
    "\n",
    "# This is to remove the borders around the boxplot\n",
    "sns.despine()\n",
    "\n",
    "# Setting x limit\n",
    "plt.xlim([-120, 16000])\n",
    "\n",
    "plt.show()"
   ]
  },
  {
   "cell_type": "code",
   "execution_count": 21,
   "id": "df38171e",
   "metadata": {},
   "outputs": [],
   "source": [
    "# This code is enabling all the values before -120 and after 14000 to be removed\n",
    "# As those values are acting as outliers\n",
    "# Thus, after removing those values, the new dataset is being stored in 'new_milk2'\n",
    "new_milk2 = wholesaler[wholesaler['Milk'].between(-120,14000)]"
   ]
  },
  {
   "cell_type": "code",
   "execution_count": 22,
   "id": "40ebfc8c",
   "metadata": {},
   "outputs": [
    {
     "name": "stderr",
     "output_type": "stream",
     "text": [
      "C:\\Users\\Nushura\\Python\\lib\\site-packages\\seaborn\\_decorators.py:36: FutureWarning: Pass the following variable as a keyword arg: x. From version 0.12, the only valid positional argument will be `data`, and passing other arguments without an explicit keyword will result in an error or misinterpretation.\n",
      "  warnings.warn(\n"
     ]
    },
    {
     "data": {
      "image/png": "[encoded data removed]",
      "text/plain": [
       "<Figure size 720x144 with 1 Axes>"
      ]
     },
     "metadata": {},
     "output_type": "display_data"
    }
   ],
   "source": [
    "# Styling\n",
    "sns.set(style='white')\n",
    "\n",
    "# Setting figure size\n",
    "fig, ax = plt.subplots(figsize=(10, 2))\n",
    "\n",
    "# Boxplot of milk column\n",
    "# Setting the color to be plum and width \n",
    "sns.boxplot(new_milk2['Milk'], color=\"plum\", width=.6)\n",
    "\n",
    "# Labeling of title and x-axis\n",
    "plt.title('Milk Boxplot', fontsize=14)\n",
    "plt.xlabel('Milk')\n",
    "\n",
    "# This is to remove the borders around the boxplot\n",
    "sns.despine()\n",
    "\n",
    "# Setting x limit\n",
    "plt.xlim([-120, 16000])\n",
    "\n",
    "plt.show()"
   ]
  },
  {
   "cell_type": "markdown",
   "id": "e4df1848",
   "metadata": {},
   "source": [
    "# Grocery"
   ]
  },
  {
   "cell_type": "code",
   "execution_count": 23,
   "id": "986b31ea",
   "metadata": {},
   "outputs": [
    {
     "name": "stderr",
     "output_type": "stream",
     "text": [
      "C:\\Users\\Nushura\\Python\\lib\\site-packages\\seaborn\\_decorators.py:36: FutureWarning: Pass the following variable as a keyword arg: x. From version 0.12, the only valid positional argument will be `data`, and passing other arguments without an explicit keyword will result in an error or misinterpretation.\n",
      "  warnings.warn(\n"
     ]
    },
    {
     "data": {
      "text/plain": [
       "<AxesSubplot:xlabel='Grocery'>"
      ]
     },
     "execution_count": 23,
     "metadata": {},
     "output_type": "execute_result"
    },
    {
     "data": {
      "image/png": "[encoded data removed]",
      "text/plain": [
       "<Figure size 432x288 with 1 Axes>"
      ]
     },
     "metadata": {},
     "output_type": "display_data"
    }
   ],
   "source": [
    "# Initial pre-cleaned box plot of milk\n",
    "# using the seaborn library\n",
    "sns.boxplot(wholesaler['Grocery'])"
   ]
  },
  {
   "cell_type": "code",
   "execution_count": 24,
   "id": "032d94e9",
   "metadata": {
    "scrolled": true
   },
   "outputs": [
    {
     "name": "stderr",
     "output_type": "stream",
     "text": [
      "C:\\Users\\Nushura\\Python\\lib\\site-packages\\seaborn\\_decorators.py:36: FutureWarning: Pass the following variable as a keyword arg: x. From version 0.12, the only valid positional argument will be `data`, and passing other arguments without an explicit keyword will result in an error or misinterpretation.\n",
      "  warnings.warn(\n"
     ]
    },
    {
     "data": {
      "image/png": "[encoded data removed]",
      "text/plain": [
       "<Figure size 720x144 with 1 Axes>"
      ]
     },
     "metadata": {},
     "output_type": "display_data"
    }
   ],
   "source": [
    "# Styling\n",
    "sns.set(style='white')\n",
    "\n",
    "# Setting figure size\n",
    "fig, ax = plt.subplots(figsize=(10, 2))\n",
    "\n",
    "# Boxplot of grocery column\n",
    "# Setting the color to be plum and width \n",
    "sns.boxplot(wholesaler['Grocery'], color=\"plum\", width=.6)\n",
    "\n",
    "# Labeling of title and x-axis\n",
    "plt.title('Grocery Boxplot', fontsize=14)\n",
    "plt.xlabel('Grocery')\n",
    "\n",
    "# This is to remove the borders around the boxplot\n",
    "sns.despine()\n",
    "\n",
    "# Setting x limit\n",
    "plt.xlim([-110, 24000])\n",
    "\n",
    "plt.show()"
   ]
  },
  {
   "cell_type": "code",
   "execution_count": 25,
   "id": "c8682be2",
   "metadata": {},
   "outputs": [],
   "source": [
    "# This code is enabling all the values before -110 and after 23400 to be removed\n",
    "# As those values are acting as outliers\n",
    "# Thus, after removing those values, the new dataset is being stored in 'new_grocery'\n",
    "new_grocery = wholesaler[wholesaler['Grocery'].between(-110,23400)]"
   ]
  },
  {
   "cell_type": "code",
   "execution_count": 26,
   "id": "56889ceb",
   "metadata": {},
   "outputs": [
    {
     "name": "stderr",
     "output_type": "stream",
     "text": [
      "C:\\Users\\Nushura\\Python\\lib\\site-packages\\seaborn\\_decorators.py:36: FutureWarning: Pass the following variable as a keyword arg: x. From version 0.12, the only valid positional argument will be `data`, and passing other arguments without an explicit keyword will result in an error or misinterpretation.\n",
      "  warnings.warn(\n"
     ]
    },
    {
     "data": {
      "image/png": "[encoded data removed]",
      "text/plain": [
       "<Figure size 720x144 with 1 Axes>"
      ]
     },
     "metadata": {},
     "output_type": "display_data"
    }
   ],
   "source": [
    "# Styling\n",
    "sns.set(style='white')\n",
    "\n",
    "# Setting figure size\n",
    "fig, ax = plt.subplots(figsize=(10, 2))\n",
    "\n",
    "# Boxplot of grocery column\n",
    "# Setting the color to be plum and width \n",
    "sns.boxplot(new_grocery['Grocery'], color=\"plum\", width=.6)\n",
    "\n",
    "# Labeling of title and x-axis\n",
    "plt.title('Grocery Boxplot', fontsize=14)\n",
    "plt.xlabel('Grocery')\n",
    "\n",
    "# This is to remove the borders around the boxplot\n",
    "sns.despine()\n",
    "\n",
    "# Setting x limit\n",
    "plt.xlim([-120, 23400])\n",
    "\n",
    "plt.show()"
   ]
  },
  {
   "cell_type": "code",
   "execution_count": 27,
   "id": "419a4d54",
   "metadata": {},
   "outputs": [],
   "source": [
    "# This code is enabling all the values before -120 and after 20200 to be removed\n",
    "# As those values are acting as outliers\n",
    "# Thus, after removing those values, the new dataset is being stored in 'new_grocery2'\n",
    "new_grocery2 = wholesaler[wholesaler['Grocery'].between(-120,20200)]"
   ]
  },
  {
   "cell_type": "code",
   "execution_count": 28,
   "id": "9eb360e3",
   "metadata": {},
   "outputs": [
    {
     "name": "stderr",
     "output_type": "stream",
     "text": [
      "C:\\Users\\Nushura\\Python\\lib\\site-packages\\seaborn\\_decorators.py:36: FutureWarning: Pass the following variable as a keyword arg: x. From version 0.12, the only valid positional argument will be `data`, and passing other arguments without an explicit keyword will result in an error or misinterpretation.\n",
      "  warnings.warn(\n"
     ]
    },
    {
     "data": {
      "image/png": "[encoded data removed]",
      "text/plain": [
       "<Figure size 720x144 with 1 Axes>"
      ]
     },
     "metadata": {},
     "output_type": "display_data"
    }
   ],
   "source": [
    "# Styling\n",
    "sns.set(style='white')\n",
    "\n",
    "# Setting figure size\n",
    "fig, ax = plt.subplots(figsize=(10, 2))\n",
    "\n",
    "# Boxplot of grocery column\n",
    "# Setting the color to be plum and width \n",
    "sns.boxplot(new_grocery2['Grocery'], color=\"plum\", width=.6)\n",
    "\n",
    "# Labeling of title and x-axis\n",
    "plt.title('Grocery Boxplot', fontsize=14)\n",
    "plt.xlabel('Grocery')\n",
    "\n",
    "# This is to remove the borders around the boxplot\n",
    "sns.despine()\n",
    "\n",
    "# Setting x limit\n",
    "plt.xlim([-120, 20200])\n",
    "\n",
    "plt.show()"
   ]
  },
  {
   "cell_type": "code",
   "execution_count": 29,
   "id": "c5401bf0",
   "metadata": {},
   "outputs": [],
   "source": [
    "# This code is enabling all the values before -120 and after 18500 to be removed\n",
    "# As those values are acting as outliers\n",
    "# Thus, after removing those values, the new dataset is being stored in 'new_grocery3'\n",
    "new_grocery3 = wholesaler[wholesaler['Grocery'].between(-120,18500)]"
   ]
  },
  {
   "cell_type": "code",
   "execution_count": 30,
   "id": "dfd4f7e8",
   "metadata": {},
   "outputs": [
    {
     "name": "stderr",
     "output_type": "stream",
     "text": [
      "C:\\Users\\Nushura\\Python\\lib\\site-packages\\seaborn\\_decorators.py:36: FutureWarning: Pass the following variable as a keyword arg: x. From version 0.12, the only valid positional argument will be `data`, and passing other arguments without an explicit keyword will result in an error or misinterpretation.\n",
      "  warnings.warn(\n"
     ]
    },
    {
     "data": {
      "image/png": "[encoded data removed]",
      "text/plain": [
       "<Figure size 720x144 with 1 Axes>"
      ]
     },
     "metadata": {},
     "output_type": "display_data"
    }
   ],
   "source": [
    "# Styling\n",
    "sns.set(style='white')\n",
    "\n",
    "# Setting figure size\n",
    "fig, ax = plt.subplots(figsize=(10, 2))\n",
    "\n",
    "# Boxplot of grocery column\n",
    "# Setting the color to be plum and width \n",
    "sns.boxplot(new_grocery3['Grocery'], color=\"plum\", width=.6)\n",
    "\n",
    "# Labeling of title and x-axis\n",
    "plt.title('Grocery Boxplot', fontsize=14)\n",
    "plt.xlabel('Grocery')\n",
    "\n",
    "# This is to remove the borders around the boxplot\n",
    "sns.despine()\n",
    "\n",
    "# Setting x limit\n",
    "plt.xlim([-120, 18500])\n",
    "\n",
    "plt.show()"
   ]
  },
  {
   "cell_type": "code",
   "execution_count": 31,
   "id": "727cc61c",
   "metadata": {},
   "outputs": [],
   "source": [
    "# This code is enabling all the values before -120 and after 17000 to be removed\n",
    "# As those values are acting as outliers\n",
    "# Thus, after removing those values, the new dataset is being stored in 'new_grocery4'\n",
    "new_grocery4 = wholesaler[wholesaler['Grocery'].between(-120,17000)]"
   ]
  },
  {
   "cell_type": "code",
   "execution_count": 32,
   "id": "e421a988",
   "metadata": {},
   "outputs": [
    {
     "name": "stderr",
     "output_type": "stream",
     "text": [
      "C:\\Users\\Nushura\\Python\\lib\\site-packages\\seaborn\\_decorators.py:36: FutureWarning: Pass the following variable as a keyword arg: x. From version 0.12, the only valid positional argument will be `data`, and passing other arguments without an explicit keyword will result in an error or misinterpretation.\n",
      "  warnings.warn(\n"
     ]
    },
    {
     "data": {
      "image/png": "[encoded data removed]",
      "text/plain": [
       "<Figure size 720x144 with 1 Axes>"
      ]
     },
     "metadata": {},
     "output_type": "display_data"
    }
   ],
   "source": [
    "# Styling\n",
    "sns.set(style='white')\n",
    "\n",
    "# Setting figure size\n",
    "fig, ax = plt.subplots(figsize=(10, 2))\n",
    "\n",
    "# Boxplot of grocery column\n",
    "# Setting the color to be plum and width \n",
    "sns.boxplot(new_grocery4['Grocery'], color=\"plum\", width=.6)\n",
    "\n",
    "# Labeling of title and x-axis\n",
    "plt.title('Grocery Boxplot', fontsize=14)\n",
    "plt.xlabel('Grocery')\n",
    "\n",
    "# This is to remove the borders around the boxplot\n",
    "sns.despine()\n",
    "\n",
    "# Setting x limit\n",
    "plt.xlim([-120, 17000])\n",
    "\n",
    "plt.show()"
   ]
  },
  {
   "cell_type": "markdown",
   "id": "96e054a3",
   "metadata": {},
   "source": [
    "# Frozen"
   ]
  },
  {
   "cell_type": "code",
   "execution_count": 33,
   "id": "f8a07c6d",
   "metadata": {},
   "outputs": [
    {
     "name": "stderr",
     "output_type": "stream",
     "text": [
      "C:\\Users\\Nushura\\Python\\lib\\site-packages\\seaborn\\_decorators.py:36: FutureWarning: Pass the following variable as a keyword arg: x. From version 0.12, the only valid positional argument will be `data`, and passing other arguments without an explicit keyword will result in an error or misinterpretation.\n",
      "  warnings.warn(\n"
     ]
    },
    {
     "data": {
      "text/plain": [
       "<AxesSubplot:xlabel='Frozen'>"
      ]
     },
     "execution_count": 33,
     "metadata": {},
     "output_type": "execute_result"
    },
    {
     "data": {
      "image/png": "[encoded data removed]",
      "text/plain": [
       "<Figure size 432x288 with 1 Axes>"
      ]
     },
     "metadata": {},
     "output_type": "display_data"
    }
   ],
   "source": [
    "# Initial pre-cleaned box plot of milk\n",
    "# using the seaborn library\n",
    "sns.boxplot(wholesaler['Frozen'])"
   ]
  },
  {
   "cell_type": "code",
   "execution_count": 34,
   "id": "a2b3d352",
   "metadata": {},
   "outputs": [
    {
     "name": "stderr",
     "output_type": "stream",
     "text": [
      "C:\\Users\\Nushura\\Python\\lib\\site-packages\\seaborn\\_decorators.py:36: FutureWarning: Pass the following variable as a keyword arg: x. From version 0.12, the only valid positional argument will be `data`, and passing other arguments without an explicit keyword will result in an error or misinterpretation.\n",
      "  warnings.warn(\n"
     ]
    },
    {
     "data": {
      "image/png": "[encoded data removed]",
      "text/plain": [
       "<Figure size 720x144 with 1 Axes>"
      ]
     },
     "metadata": {},
     "output_type": "display_data"
    }
   ],
   "source": [
    "# Styling\n",
    "sns.set(style='white')\n",
    "\n",
    "# Setting figure size\n",
    "fig, ax = plt.subplots(figsize=(10, 2))\n",
    "\n",
    "# Boxplot of frozen column\n",
    "# Setting the color to be plum and width \n",
    "sns.boxplot(wholesaler['Frozen'], color=\"plum\", width=.6)\n",
    "\n",
    "# Labeling of title and x-axis\n",
    "plt.title('Frozen Boxplot', fontsize=14)\n",
    "plt.xlabel('Frozen')\n",
    "\n",
    "# This is to remove the borders around the boxplot\n",
    "sns.despine()\n",
    "\n",
    "# Setting x limit\n",
    "plt.xlim([-110, 7700])\n",
    "\n",
    "plt.show()"
   ]
  },
  {
   "cell_type": "code",
   "execution_count": 35,
   "id": "e01adf75",
   "metadata": {},
   "outputs": [],
   "source": [
    "# This code is enabling all the values before -110 and after 7700 to be removed\n",
    "# As those values are acting as outliers\n",
    "# Thus, after removing those values, the new dataset is being stored in 'new_frozen'\n",
    "new_frozen = wholesaler[wholesaler['Frozen'].between(-110,7700)]"
   ]
  },
  {
   "cell_type": "code",
   "execution_count": 36,
   "id": "881fb37b",
   "metadata": {},
   "outputs": [
    {
     "name": "stderr",
     "output_type": "stream",
     "text": [
      "C:\\Users\\Nushura\\Python\\lib\\site-packages\\seaborn\\_decorators.py:36: FutureWarning: Pass the following variable as a keyword arg: x. From version 0.12, the only valid positional argument will be `data`, and passing other arguments without an explicit keyword will result in an error or misinterpretation.\n",
      "  warnings.warn(\n"
     ]
    },
    {
     "data": {
      "image/png": "[encoded data removed]",
      "text/plain": [
       "<Figure size 720x144 with 1 Axes>"
      ]
     },
     "metadata": {},
     "output_type": "display_data"
    }
   ],
   "source": [
    "# Styling\n",
    "sns.set(style='white')\n",
    "\n",
    "# Setting figure size\n",
    "fig, ax = plt.subplots(figsize=(10, 2))\n",
    "\n",
    "# Boxplot of frozen column\n",
    "# Setting the color to be plum and width \n",
    "sns.boxplot(new_frozen['Frozen'], color=\"plum\", width=.6)\n",
    "\n",
    "# Labeling of title and x-axis\n",
    "plt.title('Frozen Boxplot', fontsize=14)\n",
    "plt.xlabel('Frozen')\n",
    "\n",
    "# This is to remove the borders around the boxplot\n",
    "sns.despine()\n",
    "\n",
    "# Setting x limit\n",
    "plt.xlim([-110, 7700])\n",
    "\n",
    "plt.show()"
   ]
  },
  {
   "cell_type": "code",
   "execution_count": 37,
   "id": "77e59a66",
   "metadata": {},
   "outputs": [],
   "source": [
    "# This code is enabling all the values before -110 and after 5820 to be removed\n",
    "# As those values are acting as outliers\n",
    "# Thus, after removing those values, the new dataset is being stored in 'new_frozen1'\n",
    "new_frozen1 = wholesaler[wholesaler['Frozen'].between(-110,5820)]"
   ]
  },
  {
   "cell_type": "code",
   "execution_count": 38,
   "id": "53f12ee9",
   "metadata": {},
   "outputs": [
    {
     "name": "stderr",
     "output_type": "stream",
     "text": [
      "C:\\Users\\Nushura\\Python\\lib\\site-packages\\seaborn\\_decorators.py:36: FutureWarning: Pass the following variable as a keyword arg: x. From version 0.12, the only valid positional argument will be `data`, and passing other arguments without an explicit keyword will result in an error or misinterpretation.\n",
      "  warnings.warn(\n"
     ]
    },
    {
     "data": {
      "image/png": "[encoded data removed]",
      "text/plain": [
       "<Figure size 720x144 with 1 Axes>"
      ]
     },
     "metadata": {},
     "output_type": "display_data"
    }
   ],
   "source": [
    "# Styling\n",
    "sns.set(style='white')\n",
    "\n",
    "# Setting figure size\n",
    "fig, ax = plt.subplots(figsize=(10, 2))\n",
    "\n",
    "# Boxplot of frozen column\n",
    "# Setting the color to be plum and width \n",
    "sns.boxplot(new_frozen1['Frozen'], color=\"plum\", width=.6)\n",
    "\n",
    "# Labeling of title and x-axis\n",
    "plt.title('Frozen Boxplot', fontsize=14)\n",
    "plt.xlabel('Frozen')\n",
    "\n",
    "# This is to remove the borders around the boxplot\n",
    "sns.despine()\n",
    "\n",
    "# Setting x limit\n",
    "plt.xlim([-110, 5820])\n",
    "\n",
    "plt.show()"
   ]
  },
  {
   "cell_type": "code",
   "execution_count": 39,
   "id": "1dfac4b1",
   "metadata": {},
   "outputs": [],
   "source": [
    "# This code is enabling all the values before -110 and after 5200 to be removed\n",
    "# As those values are acting as outliers\n",
    "# Thus, after removing those values, the new dataset is being stored in 'new_frozen2'\n",
    "new_frozen2 = wholesaler[wholesaler['Frozen'].between(-110,5200)]"
   ]
  },
  {
   "cell_type": "code",
   "execution_count": 40,
   "id": "510156ba",
   "metadata": {},
   "outputs": [
    {
     "name": "stderr",
     "output_type": "stream",
     "text": [
      "C:\\Users\\Nushura\\Python\\lib\\site-packages\\seaborn\\_decorators.py:36: FutureWarning: Pass the following variable as a keyword arg: x. From version 0.12, the only valid positional argument will be `data`, and passing other arguments without an explicit keyword will result in an error or misinterpretation.\n",
      "  warnings.warn(\n"
     ]
    },
    {
     "data": {
      "image/png": "[encoded data removed]",
      "text/plain": [
       "<Figure size 720x144 with 1 Axes>"
      ]
     },
     "metadata": {},
     "output_type": "display_data"
    }
   ],
   "source": [
    "# Styling\n",
    "sns.set(style='white')\n",
    "\n",
    "# Setting figure size\n",
    "fig, ax = plt.subplots(figsize=(10, 2))\n",
    "\n",
    "# Boxplot of frozen column\n",
    "# Setting the color to be plum and width \n",
    "sns.boxplot(new_frozen2['Frozen'], color=\"plum\", width=.6)\n",
    "\n",
    "# Labeling of title and x-axis\n",
    "plt.title('Frozen Boxplot', fontsize=14)\n",
    "plt.xlabel('Frozen')\n",
    "\n",
    "# This is to remove the borders around the boxplot\n",
    "sns.despine()\n",
    "\n",
    "# Setting x limit\n",
    "plt.xlim([-110, 5200])\n",
    "\n",
    "plt.show()"
   ]
  },
  {
   "cell_type": "code",
   "execution_count": 41,
   "id": "23dcfaf2",
   "metadata": {},
   "outputs": [],
   "source": [
    "# This code is enabling all the values before -110 and after 4900 to be removed\n",
    "# As those values are acting as outliers\n",
    "# Thus, after removing those values, the new dataset is being stored in 'new_frozen3'\n",
    "new_frozen3 = wholesaler[wholesaler['Frozen'].between(-110,4900)]"
   ]
  },
  {
   "cell_type": "code",
   "execution_count": 42,
   "id": "f7135d09",
   "metadata": {
    "scrolled": true
   },
   "outputs": [
    {
     "name": "stderr",
     "output_type": "stream",
     "text": [
      "C:\\Users\\Nushura\\Python\\lib\\site-packages\\seaborn\\_decorators.py:36: FutureWarning: Pass the following variable as a keyword arg: x. From version 0.12, the only valid positional argument will be `data`, and passing other arguments without an explicit keyword will result in an error or misinterpretation.\n",
      "  warnings.warn(\n"
     ]
    },
    {
     "data": {
      "image/png": "[encoded data removed]",
      "text/plain": [
       "<Figure size 720x144 with 1 Axes>"
      ]
     },
     "metadata": {},
     "output_type": "display_data"
    }
   ],
   "source": [
    "# Styling\n",
    "sns.set(style='white')\n",
    "\n",
    "# Setting figure size\n",
    "fig, ax = plt.subplots(figsize=(10, 2))\n",
    "\n",
    "# Boxplot of frozen column\n",
    "# Setting the color to be plum and width \n",
    "sns.boxplot(new_frozen3['Frozen'], color=\"plum\", width=.6)\n",
    "\n",
    "# Labeling of title and x-axis\n",
    "plt.title('Frozen Boxplot', fontsize=14)\n",
    "plt.xlabel('Frozen')\n",
    "\n",
    "# This is to remove the borders around the boxplot\n",
    "sns.despine()\n",
    "\n",
    "# Setting x limit\n",
    "plt.xlim([-110, 4900])\n",
    "\n",
    "plt.show()"
   ]
  },
  {
   "cell_type": "markdown",
   "id": "87234de1",
   "metadata": {},
   "source": [
    "# Detergents_Paper"
   ]
  },
  {
   "cell_type": "code",
   "execution_count": 43,
   "id": "49a9cfe1",
   "metadata": {},
   "outputs": [
    {
     "name": "stderr",
     "output_type": "stream",
     "text": [
      "C:\\Users\\Nushura\\Python\\lib\\site-packages\\seaborn\\_decorators.py:36: FutureWarning: Pass the following variable as a keyword arg: x. From version 0.12, the only valid positional argument will be `data`, and passing other arguments without an explicit keyword will result in an error or misinterpretation.\n",
      "  warnings.warn(\n"
     ]
    },
    {
     "data": {
      "text/plain": [
       "<AxesSubplot:xlabel='Detergents_Paper'>"
      ]
     },
     "execution_count": 43,
     "metadata": {},
     "output_type": "execute_result"
    },
    {
     "data": {
      "image/png": "[encoded data removed]",
      "text/plain": [
       "<Figure size 432x288 with 1 Axes>"
      ]
     },
     "metadata": {},
     "output_type": "display_data"
    }
   ],
   "source": [
    "# Initial pre-cleaned box plot of Detergents_Paper\n",
    "# using the seaborn library\n",
    "sns.boxplot(wholesaler['Detergents_Paper'])"
   ]
  },
  {
   "cell_type": "code",
   "execution_count": 44,
   "id": "9970caf3",
   "metadata": {},
   "outputs": [
    {
     "name": "stderr",
     "output_type": "stream",
     "text": [
      "C:\\Users\\Nushura\\Python\\lib\\site-packages\\seaborn\\_decorators.py:36: FutureWarning: Pass the following variable as a keyword arg: x. From version 0.12, the only valid positional argument will be `data`, and passing other arguments without an explicit keyword will result in an error or misinterpretation.\n",
      "  warnings.warn(\n"
     ]
    },
    {
     "data": {
      "image/png": "[encoded data removed]",
      "text/plain": [
       "<Figure size 720x144 with 1 Axes>"
      ]
     },
     "metadata": {},
     "output_type": "display_data"
    }
   ],
   "source": [
    "# Styling\n",
    "sns.set(style='white')\n",
    "\n",
    "# Setting figure size\n",
    "fig, ax = plt.subplots(figsize=(10, 2))\n",
    "\n",
    "# Boxplot of Detergents_Paper column\n",
    "# Setting the color to be plum and width \n",
    "sns.boxplot(wholesaler['Detergents_Paper'], color=\"plum\", width=.6)\n",
    "\n",
    "# Labeling of title and x-axis\n",
    "plt.title('Detergents_Paper Boxplot', fontsize=14)\n",
    "plt.xlabel('Detergents_Paper')\n",
    "\n",
    "# This is to remove the borders around the boxplot\n",
    "sns.despine()\n",
    "\n",
    "# Setting x limit\n",
    "plt.xlim([-110, 10000])\n",
    "\n",
    "plt.show()"
   ]
  },
  {
   "cell_type": "code",
   "execution_count": 45,
   "id": "02adfaeb",
   "metadata": {},
   "outputs": [],
   "source": [
    "# This code is enabling all the values before -110 and after 9400 to be removed\n",
    "# As those values are acting as outliers\n",
    "# Thus, after removing those values, the new dataset is being stored in 'new_Detergents_Paper'\n",
    "new_Detergents_Paper = wholesaler[wholesaler['Detergents_Paper'].between(-110,9400)]"
   ]
  },
  {
   "cell_type": "code",
   "execution_count": 46,
   "id": "84420650",
   "metadata": {},
   "outputs": [
    {
     "name": "stderr",
     "output_type": "stream",
     "text": [
      "C:\\Users\\Nushura\\Python\\lib\\site-packages\\seaborn\\_decorators.py:36: FutureWarning: Pass the following variable as a keyword arg: x. From version 0.12, the only valid positional argument will be `data`, and passing other arguments without an explicit keyword will result in an error or misinterpretation.\n",
      "  warnings.warn(\n"
     ]
    },
    {
     "data": {
      "image/png": "[encoded data removed]",
      "text/plain": [
       "<Figure size 720x144 with 1 Axes>"
      ]
     },
     "metadata": {},
     "output_type": "display_data"
    }
   ],
   "source": [
    "# Styling\n",
    "sns.set(style='white')\n",
    "\n",
    "# Setting figure size\n",
    "fig, ax = plt.subplots(figsize=(10, 2))\n",
    "\n",
    "# Boxplot of Detergents_Paper column\n",
    "# Setting the color to be plum and width \n",
    "sns.boxplot(new_Detergents_Paper['Detergents_Paper'], color=\"plum\", width=.6)\n",
    "\n",
    "# Labeling of title and x-axis\n",
    "plt.title('Detergents_Paper Boxplot', fontsize=14)\n",
    "plt.xlabel('Detergents_Paper')\n",
    "\n",
    "# This is to remove the borders around the boxplot\n",
    "sns.despine()\n",
    "\n",
    "# Setting x limit\n",
    "plt.xlim([-110, 9400])\n",
    "\n",
    "plt.show()"
   ]
  },
  {
   "cell_type": "code",
   "execution_count": 47,
   "id": "906252d4",
   "metadata": {},
   "outputs": [],
   "source": [
    "# This code is enabling all the values before -110 and after 7500 to be removed\n",
    "# As those values are acting as outliers\n",
    "# Thus, after removing those values, the new dataset is being stored in 'new_Detergents_Paper2'\n",
    "new_Detergents_Paper2 = wholesaler[wholesaler['Detergents_Paper'].between(-110,7500)]"
   ]
  },
  {
   "cell_type": "code",
   "execution_count": 48,
   "id": "1902dd25",
   "metadata": {},
   "outputs": [
    {
     "name": "stderr",
     "output_type": "stream",
     "text": [
      "C:\\Users\\Nushura\\Python\\lib\\site-packages\\seaborn\\_decorators.py:36: FutureWarning: Pass the following variable as a keyword arg: x. From version 0.12, the only valid positional argument will be `data`, and passing other arguments without an explicit keyword will result in an error or misinterpretation.\n",
      "  warnings.warn(\n"
     ]
    },
    {
     "data": {
      "image/png": "[encoded data removed]",
      "text/plain": [
       "<Figure size 720x144 with 1 Axes>"
      ]
     },
     "metadata": {},
     "output_type": "display_data"
    }
   ],
   "source": [
    "# Styling\n",
    "sns.set(style='white')\n",
    "\n",
    "# Setting figure size\n",
    "fig, ax = plt.subplots(figsize=(10, 2))\n",
    "\n",
    "# Boxplot of Detergents_Paper column\n",
    "# Setting the color to be plum and width \n",
    "sns.boxplot(new_Detergents_Paper2['Detergents_Paper'], color=\"plum\", width=.6)\n",
    "\n",
    "# Labeling of title and x-axis\n",
    "plt.title('Detergents_Paper Boxplot', fontsize=14)\n",
    "plt.xlabel('Detergents_Paper')\n",
    "\n",
    "# This is to remove the borders around the boxplot\n",
    "sns.despine()\n",
    "\n",
    "# Setting x limit\n",
    "plt.xlim([-110, 7500])\n",
    "\n",
    "plt.show()"
   ]
  },
  {
   "cell_type": "code",
   "execution_count": 49,
   "id": "fdf3a621",
   "metadata": {},
   "outputs": [],
   "source": [
    "# This code is enabling all the values before -110 and after 6000 to be removed\n",
    "# As those values are acting as outliers\n",
    "# Thus, after removing those values, the new dataset is being stored in 'new_Detergents_Paper3'\n",
    "new_Detergents_Paper3 = wholesaler[wholesaler['Detergents_Paper'].between(-110,6000)]"
   ]
  },
  {
   "cell_type": "code",
   "execution_count": 50,
   "id": "09a2b078",
   "metadata": {},
   "outputs": [
    {
     "name": "stderr",
     "output_type": "stream",
     "text": [
      "C:\\Users\\Nushura\\Python\\lib\\site-packages\\seaborn\\_decorators.py:36: FutureWarning: Pass the following variable as a keyword arg: x. From version 0.12, the only valid positional argument will be `data`, and passing other arguments without an explicit keyword will result in an error or misinterpretation.\n",
      "  warnings.warn(\n"
     ]
    },
    {
     "data": {
      "image/png": "[encoded data removed]",
      "text/plain": [
       "<Figure size 720x144 with 1 Axes>"
      ]
     },
     "metadata": {},
     "output_type": "display_data"
    }
   ],
   "source": [
    "# Styling\n",
    "sns.set(style='white')\n",
    "\n",
    "# Setting figure size\n",
    "fig, ax = plt.subplots(figsize=(10, 2))\n",
    "\n",
    "# Boxplot of Detergents_Paper column\n",
    "# Setting the color to be plum and width \n",
    "sns.boxplot(new_Detergents_Paper3['Detergents_Paper'], color=\"plum\", width=.6)\n",
    "\n",
    "# Labeling of title and x-axis\n",
    "plt.title('Detergents_Paper Boxplot', fontsize=14)\n",
    "plt.xlabel('Detergents_Paper')\n",
    "\n",
    "# This is to remove the borders around the boxplot\n",
    "sns.despine()\n",
    "\n",
    "# Setting x limit\n",
    "plt.xlim([-110, 6000])\n",
    "\n",
    "plt.show()"
   ]
  },
  {
   "cell_type": "code",
   "execution_count": 51,
   "id": "597d138d",
   "metadata": {},
   "outputs": [],
   "source": [
    "# This code is enabling all the values before -110 and after 4200 to be removed\n",
    "# As those values are acting as outliers\n",
    "# Thus, after removing those values, the new dataset is being stored in 'new_Detergents_Paper4'\n",
    "new_Detergents_Paper4 = wholesaler[wholesaler['Detergents_Paper'].between(-110,4200)]"
   ]
  },
  {
   "cell_type": "code",
   "execution_count": 52,
   "id": "840f34ac",
   "metadata": {},
   "outputs": [
    {
     "name": "stderr",
     "output_type": "stream",
     "text": [
      "C:\\Users\\Nushura\\Python\\lib\\site-packages\\seaborn\\_decorators.py:36: FutureWarning: Pass the following variable as a keyword arg: x. From version 0.12, the only valid positional argument will be `data`, and passing other arguments without an explicit keyword will result in an error or misinterpretation.\n",
      "  warnings.warn(\n"
     ]
    },
    {
     "data": {
      "image/png": "[encoded data removed]",
      "text/plain": [
       "<Figure size 720x144 with 1 Axes>"
      ]
     },
     "metadata": {},
     "output_type": "display_data"
    }
   ],
   "source": [
    "# Styling\n",
    "sns.set(style='white')\n",
    "\n",
    "# Setting figure size\n",
    "fig, ax = plt.subplots(figsize=(10, 2))\n",
    "\n",
    "# Boxplot of Detergents_Paper column\n",
    "# Setting the color to be plum and width \n",
    "sns.boxplot(new_Detergents_Paper4['Detergents_Paper'], color=\"plum\", width=.6)\n",
    "\n",
    "# Labeling of title and x-axis\n",
    "plt.title('Detergents_Paper Boxplot', fontsize=14)\n",
    "plt.xlabel('Detergents_Paper')\n",
    "\n",
    "# This is to remove the borders around the boxplot\n",
    "sns.despine()\n",
    "\n",
    "# Setting x limit\n",
    "plt.xlim([-110, 4200])\n",
    "\n",
    "plt.show()"
   ]
  },
  {
   "cell_type": "code",
   "execution_count": 53,
   "id": "6ca32a3d",
   "metadata": {},
   "outputs": [],
   "source": [
    "# This code is enabling all the values before -110 and after 2800 to be removed\n",
    "# As those values are acting as outliers\n",
    "# Thus, after removing those values, the new dataset is being stored in 'new_Detergents_Paper5'\n",
    "new_Detergents_Paper5 = wholesaler[wholesaler['Detergents_Paper'].between(-110,2800)]"
   ]
  },
  {
   "cell_type": "code",
   "execution_count": 54,
   "id": "0ba6811e",
   "metadata": {
    "scrolled": true
   },
   "outputs": [
    {
     "name": "stderr",
     "output_type": "stream",
     "text": [
      "C:\\Users\\Nushura\\Python\\lib\\site-packages\\seaborn\\_decorators.py:36: FutureWarning: Pass the following variable as a keyword arg: x. From version 0.12, the only valid positional argument will be `data`, and passing other arguments without an explicit keyword will result in an error or misinterpretation.\n",
      "  warnings.warn(\n"
     ]
    },
    {
     "data": {
      "image/png": "[encoded data removed]",
      "text/plain": [
       "<Figure size 720x144 with 1 Axes>"
      ]
     },
     "metadata": {},
     "output_type": "display_data"
    }
   ],
   "source": [
    "# Styling\n",
    "sns.set(style='white')\n",
    "\n",
    "# Setting figure size\n",
    "fig, ax = plt.subplots(figsize=(10, 2))\n",
    "\n",
    "# Boxplot of Detergents_Paper column\n",
    "# Setting the color to be plum and width \n",
    "sns.boxplot(new_Detergents_Paper5['Detergents_Paper'], color=\"plum\", width=.6)\n",
    "\n",
    "# Labeling of title and x-axis\n",
    "plt.title('Detergents_Paper Boxplot', fontsize=14)\n",
    "plt.xlabel('Detergents_Paper')\n",
    "\n",
    "# This is to remove the borders around the boxplot\n",
    "sns.despine()\n",
    "\n",
    "# Setting x limit\n",
    "plt.xlim([-110, 2800])\n",
    "\n",
    "plt.show()"
   ]
  },
  {
   "cell_type": "code",
   "execution_count": 55,
   "id": "0ef9d742",
   "metadata": {},
   "outputs": [],
   "source": [
    "# This code is enabling all the values before -110 and after 1850 to be removed\n",
    "# As those values are acting as outliers\n",
    "# Thus, after removing those values, the new dataset is being stored in 'new_Detergents_Paper6'\n",
    "new_Detergents_Paper6 = wholesaler[wholesaler['Detergents_Paper'].between(-110,1850)]"
   ]
  },
  {
   "cell_type": "code",
   "execution_count": 56,
   "id": "192ce981",
   "metadata": {},
   "outputs": [
    {
     "name": "stderr",
     "output_type": "stream",
     "text": [
      "C:\\Users\\Nushura\\Python\\lib\\site-packages\\seaborn\\_decorators.py:36: FutureWarning: Pass the following variable as a keyword arg: x. From version 0.12, the only valid positional argument will be `data`, and passing other arguments without an explicit keyword will result in an error or misinterpretation.\n",
      "  warnings.warn(\n"
     ]
    },
    {
     "data": {
      "image/png": "[encoded data removed]",
      "text/plain": [
       "<Figure size 720x144 with 1 Axes>"
      ]
     },
     "metadata": {},
     "output_type": "display_data"
    }
   ],
   "source": [
    "# Styling\n",
    "sns.set(style='white')\n",
    "\n",
    "# Setting figure size\n",
    "fig, ax = plt.subplots(figsize=(10, 2))\n",
    "\n",
    "# Boxplot of Detergents_Paper column\n",
    "# Setting the color to be plum and width \n",
    "sns.boxplot(new_Detergents_Paper6['Detergents_Paper'], color=\"plum\", width=.6)\n",
    "\n",
    "# Labeling of title and x-axis\n",
    "plt.title('Detergents_Paper Boxplot', fontsize=14)\n",
    "plt.xlabel('Detergents_Paper')\n",
    "\n",
    "# This is to remove the borders around the boxplot\n",
    "sns.despine()\n",
    "\n",
    "# Setting x limit\n",
    "plt.xlim([-110, 1850])\n",
    "\n",
    "plt.show()"
   ]
  },
  {
   "cell_type": "code",
   "execution_count": 57,
   "id": "deb4f515",
   "metadata": {},
   "outputs": [],
   "source": [
    "# This code is enabling all the values before -110 and after 1600 to be removed\n",
    "# As those values are acting as outliers\n",
    "# Thus, after removing those values, the new dataset is being stored in 'new_Detergents_Paper7'\n",
    "new_Detergents_Paper7 = wholesaler[wholesaler['Detergents_Paper'].between(-110,1600)]"
   ]
  },
  {
   "cell_type": "code",
   "execution_count": 58,
   "id": "ddc31274",
   "metadata": {},
   "outputs": [
    {
     "name": "stderr",
     "output_type": "stream",
     "text": [
      "C:\\Users\\Nushura\\Python\\lib\\site-packages\\seaborn\\_decorators.py:36: FutureWarning: Pass the following variable as a keyword arg: x. From version 0.12, the only valid positional argument will be `data`, and passing other arguments without an explicit keyword will result in an error or misinterpretation.\n",
      "  warnings.warn(\n"
     ]
    },
    {
     "data": {
      "image/png": "[encoded data removed]",
      "text/plain": [
       "<Figure size 720x144 with 1 Axes>"
      ]
     },
     "metadata": {},
     "output_type": "display_data"
    }
   ],
   "source": [
    "# Styling\n",
    "sns.set(style='white')\n",
    "\n",
    "# Setting figure size\n",
    "fig, ax = plt.subplots(figsize=(10, 2))\n",
    "\n",
    "# Boxplot of Detergents_Paper column\n",
    "# Setting the color to be plum and width \n",
    "sns.boxplot(new_Detergents_Paper7['Detergents_Paper'], color=\"plum\", width=.6)\n",
    "\n",
    "# Labeling of title and x-axis\n",
    "plt.title('Detergents_Paper Boxplot', fontsize=14)\n",
    "plt.xlabel('Detergents_Paper')\n",
    "\n",
    "# This is to remove the borders around the boxplot\n",
    "sns.despine()\n",
    "\n",
    "# Setting x limit\n",
    "plt.xlim([-110, 1600])\n",
    "\n",
    "plt.show()"
   ]
  },
  {
   "cell_type": "code",
   "execution_count": 59,
   "id": "14074aee",
   "metadata": {},
   "outputs": [],
   "source": [
    "# This code is enabling all the values before -110 and after 1500 to be removed\n",
    "# As those values are acting as outliers\n",
    "# Thus, after removing those values, the new dataset is being stored in 'new_Detergents_Paper8'\n",
    "new_Detergents_Paper8 = wholesaler[wholesaler['Detergents_Paper'].between(-110,1500)]"
   ]
  },
  {
   "cell_type": "code",
   "execution_count": 60,
   "id": "4597bfcd",
   "metadata": {},
   "outputs": [
    {
     "name": "stderr",
     "output_type": "stream",
     "text": [
      "C:\\Users\\Nushura\\Python\\lib\\site-packages\\seaborn\\_decorators.py:36: FutureWarning: Pass the following variable as a keyword arg: x. From version 0.12, the only valid positional argument will be `data`, and passing other arguments without an explicit keyword will result in an error or misinterpretation.\n",
      "  warnings.warn(\n"
     ]
    },
    {
     "data": {
      "image/png": "[encoded data removed]",
      "text/plain": [
       "<Figure size 720x144 with 1 Axes>"
      ]
     },
     "metadata": {},
     "output_type": "display_data"
    }
   ],
   "source": [
    "# Styling\n",
    "sns.set(style='white')\n",
    "\n",
    "# Setting figure size\n",
    "fig, ax = plt.subplots(figsize=(10, 2))\n",
    "\n",
    "# Boxplot of Detergents_Paper column\n",
    "# Setting the color to be plum and width \n",
    "sns.boxplot(new_Detergents_Paper8['Detergents_Paper'], color=\"plum\", width=.6)\n",
    "\n",
    "# Labeling of title and x-axis\n",
    "plt.title('Detergents_Paper Boxplot', fontsize=14)\n",
    "plt.xlabel('Detergents_Paper')\n",
    "\n",
    "# This is to remove the borders around the boxplot\n",
    "sns.despine()\n",
    "\n",
    "# Setting x limit\n",
    "plt.xlim([-110, 1500])\n",
    "\n",
    "plt.show()"
   ]
  },
  {
   "cell_type": "code",
   "execution_count": 61,
   "id": "74aa386b",
   "metadata": {},
   "outputs": [],
   "source": [
    "# This code is enabling all the values before -110 and after 1322 to be removed\n",
    "# As those values are acting as outliers\n",
    "# Thus, after removing those values, the new dataset is being stored in 'new_Detergents_Paper9'\n",
    "new_Detergents_Paper9 = wholesaler[wholesaler['Detergents_Paper'].between(-110,1322)]"
   ]
  },
  {
   "cell_type": "code",
   "execution_count": 62,
   "id": "56300c9c",
   "metadata": {},
   "outputs": [
    {
     "name": "stderr",
     "output_type": "stream",
     "text": [
      "C:\\Users\\Nushura\\Python\\lib\\site-packages\\seaborn\\_decorators.py:36: FutureWarning: Pass the following variable as a keyword arg: x. From version 0.12, the only valid positional argument will be `data`, and passing other arguments without an explicit keyword will result in an error or misinterpretation.\n",
      "  warnings.warn(\n"
     ]
    },
    {
     "data": {
      "image/png": "[encoded data removed]",
      "text/plain": [
       "<Figure size 720x144 with 1 Axes>"
      ]
     },
     "metadata": {},
     "output_type": "display_data"
    }
   ],
   "source": [
    "# Styling\n",
    "sns.set(style='white')\n",
    "\n",
    "# Setting figure size\n",
    "fig, ax = plt.subplots(figsize=(10, 2))\n",
    "\n",
    "# Boxplot of Detergents_Paper column\n",
    "# Setting the color to be plum and width \n",
    "sns.boxplot(new_Detergents_Paper9['Detergents_Paper'], color=\"plum\", width=.6)\n",
    "\n",
    "# Labeling of title and x-axis\n",
    "plt.title('Detergents_Paper Boxplot', fontsize=14)\n",
    "plt.xlabel('Detergents_Paper')\n",
    "\n",
    "# This is to remove the borders around the boxplot\n",
    "sns.despine()\n",
    "\n",
    "# Setting x limit\n",
    "plt.xlim([-110, 1322])\n",
    "\n",
    "plt.show()"
   ]
  },
  {
   "cell_type": "code",
   "execution_count": 63,
   "id": "7cf831c2",
   "metadata": {},
   "outputs": [],
   "source": [
    "# This code is enabling all the values before -110 and after 1250 to be removed\n",
    "# As those values are acting as outliers\n",
    "# Thus, after removing those values, the new dataset is being stored in 'new_Detergents_Paper10'\n",
    "new_Detergents_Paper10 = wholesaler[wholesaler['Detergents_Paper'].between(-110,1250)]"
   ]
  },
  {
   "cell_type": "code",
   "execution_count": 64,
   "id": "62b9ffac",
   "metadata": {},
   "outputs": [
    {
     "name": "stderr",
     "output_type": "stream",
     "text": [
      "C:\\Users\\Nushura\\Python\\lib\\site-packages\\seaborn\\_decorators.py:36: FutureWarning: Pass the following variable as a keyword arg: x. From version 0.12, the only valid positional argument will be `data`, and passing other arguments without an explicit keyword will result in an error or misinterpretation.\n",
      "  warnings.warn(\n"
     ]
    },
    {
     "data": {
      "image/png": "[encoded data removed]",
      "text/plain": [
       "<Figure size 720x144 with 1 Axes>"
      ]
     },
     "metadata": {},
     "output_type": "display_data"
    }
   ],
   "source": [
    "# Styling\n",
    "sns.set(style='white')\n",
    "\n",
    "# Setting figure size\n",
    "fig, ax = plt.subplots(figsize=(10, 2))\n",
    "\n",
    "# Boxplot of Detergents_Paper column\n",
    "# Setting the color to be plum and width \n",
    "sns.boxplot(new_Detergents_Paper10['Detergents_Paper'], color=\"plum\", width=.6)\n",
    "\n",
    "# Labeling of title and x-axis\n",
    "plt.title('Detergents_Paper Boxplot', fontsize=14)\n",
    "plt.xlabel('Detergents_Paper')\n",
    "\n",
    "# This is to remove the borders around the boxplot\n",
    "sns.despine()\n",
    "\n",
    "# Setting x limit\n",
    "plt.xlim([-110, 1250])\n",
    "\n",
    "plt.show()"
   ]
  },
  {
   "cell_type": "code",
   "execution_count": 65,
   "id": "c6212b1e",
   "metadata": {},
   "outputs": [],
   "source": [
    "# This code is enabling all the values before -110 and after 1240 to be removed\n",
    "# As those values are acting as outliers\n",
    "# Thus, after removing those values, the new dataset is being stored in 'new_Detergents_Paper11'\n",
    "new_Detergents_Paper11 = wholesaler[wholesaler['Detergents_Paper'].between(-110,1240)]"
   ]
  },
  {
   "cell_type": "code",
   "execution_count": 66,
   "id": "90ba4858",
   "metadata": {},
   "outputs": [
    {
     "name": "stderr",
     "output_type": "stream",
     "text": [
      "C:\\Users\\Nushura\\Python\\lib\\site-packages\\seaborn\\_decorators.py:36: FutureWarning: Pass the following variable as a keyword arg: x. From version 0.12, the only valid positional argument will be `data`, and passing other arguments without an explicit keyword will result in an error or misinterpretation.\n",
      "  warnings.warn(\n"
     ]
    },
    {
     "data": {
      "image/png": "[encoded data removed]",
      "text/plain": [
       "<Figure size 720x144 with 1 Axes>"
      ]
     },
     "metadata": {},
     "output_type": "display_data"
    }
   ],
   "source": [
    "# Styling\n",
    "sns.set(style='white')\n",
    "\n",
    "# Setting figure size\n",
    "fig, ax = plt.subplots(figsize=(10, 2))\n",
    "\n",
    "# Boxplot of Detergents_Paper column\n",
    "# Setting the color to be plum and width \n",
    "sns.boxplot(new_Detergents_Paper11['Detergents_Paper'], color=\"plum\", width=.6)\n",
    "\n",
    "# Labeling of title and x-axis\n",
    "plt.title('Detergents_Paper Boxplot', fontsize=14)\n",
    "plt.xlabel('Detergents_Paper')\n",
    "\n",
    "# This is to remove the borders around the boxplot\n",
    "sns.despine()\n",
    "\n",
    "# Setting x limit\n",
    "plt.xlim([-110, 1240])\n",
    "\n",
    "plt.show()"
   ]
  },
  {
   "cell_type": "markdown",
   "id": "1a10cfce",
   "metadata": {},
   "source": [
    "# Delicassen"
   ]
  },
  {
   "cell_type": "code",
   "execution_count": 67,
   "id": "b61f822a",
   "metadata": {},
   "outputs": [
    {
     "name": "stderr",
     "output_type": "stream",
     "text": [
      "C:\\Users\\Nushura\\Python\\lib\\site-packages\\seaborn\\_decorators.py:36: FutureWarning: Pass the following variable as a keyword arg: x. From version 0.12, the only valid positional argument will be `data`, and passing other arguments without an explicit keyword will result in an error or misinterpretation.\n",
      "  warnings.warn(\n"
     ]
    },
    {
     "data": {
      "text/plain": [
       "<AxesSubplot:xlabel='Delicassen'>"
      ]
     },
     "execution_count": 67,
     "metadata": {},
     "output_type": "execute_result"
    },
    {
     "data": {
      "image/png": "[encoded data removed]",
      "text/plain": [
       "<Figure size 432x288 with 1 Axes>"
      ]
     },
     "metadata": {},
     "output_type": "display_data"
    }
   ],
   "source": [
    "# Initial pre-cleaned box plot of Delicassen\n",
    "# using the seaborn library\n",
    "sns.boxplot(wholesaler['Delicassen'])"
   ]
  },
  {
   "cell_type": "code",
   "execution_count": 68,
   "id": "3874acb7",
   "metadata": {},
   "outputs": [
    {
     "name": "stderr",
     "output_type": "stream",
     "text": [
      "C:\\Users\\Nushura\\Python\\lib\\site-packages\\seaborn\\_decorators.py:36: FutureWarning: Pass the following variable as a keyword arg: x. From version 0.12, the only valid positional argument will be `data`, and passing other arguments without an explicit keyword will result in an error or misinterpretation.\n",
      "  warnings.warn(\n"
     ]
    },
    {
     "data": {
      "image/png": "[encoded data removed]",
      "text/plain": [
       "<Figure size 720x144 with 1 Axes>"
      ]
     },
     "metadata": {},
     "output_type": "display_data"
    }
   ],
   "source": [
    "# Styling\n",
    "sns.set(style='white')\n",
    "\n",
    "# Setting figure size\n",
    "fig, ax = plt.subplots(figsize=(10, 2))\n",
    "\n",
    "# Boxplot of Delicassen column\n",
    "# Setting the color to be plum and width \n",
    "sns.boxplot(wholesaler['Delicassen'], color=\"plum\", width=.6)\n",
    "\n",
    "# Labeling of title and x-axis\n",
    "plt.title('Delicassen Boxplot', fontsize=14)\n",
    "plt.xlabel('Delicassen')\n",
    "\n",
    "# This is to remove the borders around the boxplot\n",
    "sns.despine()\n",
    "\n",
    "# Setting x limit\n",
    "plt.xlim([-110, 5000])\n",
    "\n",
    "plt.show()"
   ]
  },
  {
   "cell_type": "code",
   "execution_count": 69,
   "id": "8816bad5",
   "metadata": {},
   "outputs": [],
   "source": [
    "# This code is enabling all the values before -110 and after 4000 to be removed\n",
    "# As those values are acting as outliers\n",
    "# Thus, after removing those values, the new dataset is being stored in 'new_Delicassen'\n",
    "new_Delicassen = wholesaler[wholesaler['Delicassen'].between(-110,4000)]"
   ]
  },
  {
   "cell_type": "code",
   "execution_count": 70,
   "id": "e2202ece",
   "metadata": {},
   "outputs": [
    {
     "name": "stderr",
     "output_type": "stream",
     "text": [
      "C:\\Users\\Nushura\\Python\\lib\\site-packages\\seaborn\\_decorators.py:36: FutureWarning: Pass the following variable as a keyword arg: x. From version 0.12, the only valid positional argument will be `data`, and passing other arguments without an explicit keyword will result in an error or misinterpretation.\n",
      "  warnings.warn(\n"
     ]
    },
    {
     "data": {
      "image/png": "[encoded data removed]",
      "text/plain": [
       "<Figure size 720x144 with 1 Axes>"
      ]
     },
     "metadata": {},
     "output_type": "display_data"
    }
   ],
   "source": [
    "# Styling\n",
    "sns.set(style='white')\n",
    "\n",
    "# Setting figure size\n",
    "fig, ax = plt.subplots(figsize=(10, 2))\n",
    "\n",
    "# Boxplot of Delicassen column\n",
    "# Setting the color to be plum and width \n",
    "sns.boxplot(new_Delicassen['Delicassen'], color=\"plum\", width=.6)\n",
    "\n",
    "# Labeling of title and x-axis\n",
    "plt.title('Delicassen Boxplot', fontsize=14)\n",
    "plt.xlabel('Delicassen')\n",
    "\n",
    "# This is to remove the borders around the boxplot\n",
    "sns.despine()\n",
    "\n",
    "# Setting x limit\n",
    "plt.xlim([-110, 4000])\n",
    "\n",
    "plt.show()"
   ]
  },
  {
   "cell_type": "code",
   "execution_count": 71,
   "id": "f0d61aee",
   "metadata": {},
   "outputs": [],
   "source": [
    "# This code is enabling all the values before -110 and after 3400 to be removed\n",
    "# As those values are acting as outliers\n",
    "# Thus, after removing those values, the new dataset is being stored in 'new_Delicassen2'\n",
    "new_Delicassen2 = wholesaler[wholesaler['Delicassen'].between(-110,3400)]"
   ]
  },
  {
   "cell_type": "code",
   "execution_count": 72,
   "id": "4f3c1d1d",
   "metadata": {},
   "outputs": [
    {
     "name": "stderr",
     "output_type": "stream",
     "text": [
      "C:\\Users\\Nushura\\Python\\lib\\site-packages\\seaborn\\_decorators.py:36: FutureWarning: Pass the following variable as a keyword arg: x. From version 0.12, the only valid positional argument will be `data`, and passing other arguments without an explicit keyword will result in an error or misinterpretation.\n",
      "  warnings.warn(\n"
     ]
    },
    {
     "data": {
      "image/png": "[encoded data removed]",
      "text/plain": [
       "<Figure size 720x144 with 1 Axes>"
      ]
     },
     "metadata": {},
     "output_type": "display_data"
    }
   ],
   "source": [
    "# Styling\n",
    "sns.set(style='white')\n",
    "\n",
    "# Setting figure size\n",
    "fig, ax = plt.subplots(figsize=(10, 2))\n",
    "\n",
    "# Boxplot of Delicassen column\n",
    "# Setting the color to be plum and width \n",
    "sns.boxplot(new_Delicassen2['Delicassen'], color=\"plum\", width=.6)\n",
    "\n",
    "# Labeling of title and x-axis\n",
    "plt.title('Delicassen Boxplot', fontsize=14)\n",
    "plt.xlabel('Delicassen')\n",
    "\n",
    "# This is to remove the borders around the boxplot\n",
    "sns.despine()\n",
    "\n",
    "# Setting x limit\n",
    "plt.xlim([-110, 3400])\n",
    "\n",
    "plt.show()"
   ]
  },
  {
   "cell_type": "code",
   "execution_count": 73,
   "id": "ef9fcbf0",
   "metadata": {},
   "outputs": [],
   "source": [
    "# This code is enabling all the values before -110 and after 3300 to be removed\n",
    "# As those values are acting as outliers\n",
    "# Thus, after removing those values, the new dataset is being stored in 'new_Delicassen3'\n",
    "new_Delicassen3 = wholesaler[wholesaler['Delicassen'].between(-110,3300)]"
   ]
  },
  {
   "cell_type": "code",
   "execution_count": 74,
   "id": "346a5d76",
   "metadata": {},
   "outputs": [
    {
     "name": "stderr",
     "output_type": "stream",
     "text": [
      "C:\\Users\\Nushura\\Python\\lib\\site-packages\\seaborn\\_decorators.py:36: FutureWarning: Pass the following variable as a keyword arg: x. From version 0.12, the only valid positional argument will be `data`, and passing other arguments without an explicit keyword will result in an error or misinterpretation.\n",
      "  warnings.warn(\n"
     ]
    },
    {
     "data": {
      "image/png": "[encoded data removed]",
      "text/plain": [
       "<Figure size 720x144 with 1 Axes>"
      ]
     },
     "metadata": {},
     "output_type": "display_data"
    }
   ],
   "source": [
    "# Styling\n",
    "sns.set(style='white')\n",
    "\n",
    "# Setting figure size\n",
    "fig, ax = plt.subplots(figsize=(10, 2))\n",
    "\n",
    "# Boxplot of Delicassen column\n",
    "# Setting the color to be plum and width \n",
    "sns.boxplot(new_Delicassen3['Delicassen'], color=\"plum\", width=.6)\n",
    "\n",
    "# Labeling of title and x-axis\n",
    "plt.title('Delicassen Boxplot', fontsize=14)\n",
    "plt.xlabel('Delicassen')\n",
    "\n",
    "# This is to remove the borders around the boxplot\n",
    "sns.despine()\n",
    "\n",
    "# Setting x limit\n",
    "plt.xlim([-110, 3300])\n",
    "\n",
    "plt.show()"
   ]
  },
  {
   "cell_type": "markdown",
   "id": "b961dd27",
   "metadata": {},
   "source": [
    "# Task 2.1: Data Exploration of each column"
   ]
  },
  {
   "cell_type": "markdown",
   "id": "67eabbd5",
   "metadata": {},
   "source": [
    "### Details of the boxplots done earlier to further explore the columns called Fresh, Milk, Grocery, Frozen, Detergents_Paper, Delicassen"
   ]
  },
  {
   "cell_type": "code",
   "execution_count": 75,
   "id": "ef6aba44",
   "metadata": {},
   "outputs": [
    {
     "data": {
      "text/html": [
       "<div>\n",
       "<style scoped>\n",
       "    .dataframe tbody tr th:only-of-type {\n",
       "        vertical-align: middle;\n",
       "    }\n",
       "\n",
       "    .dataframe tbody tr th {\n",
       "        vertical-align: top;\n",
       "    }\n",
       "\n",
       "    .dataframe thead th {\n",
       "        text-align: right;\n",
       "    }\n",
       "</style>\n",
       "<table border=\"1\" class=\"dataframe\">\n",
       "  <thead>\n",
       "    <tr style=\"text-align: right;\">\n",
       "      <th></th>\n",
       "      <th>Channel</th>\n",
       "      <th>Region</th>\n",
       "      <th>Fresh</th>\n",
       "      <th>Milk</th>\n",
       "      <th>Grocery</th>\n",
       "      <th>Frozen</th>\n",
       "      <th>Detergents_Paper</th>\n",
       "      <th>Delicassen</th>\n",
       "    </tr>\n",
       "  </thead>\n",
       "  <tbody>\n",
       "    <tr>\n",
       "      <th>count</th>\n",
       "      <td>407.000000</td>\n",
       "      <td>407.000000</td>\n",
       "      <td>407.000000</td>\n",
       "      <td>407.000000</td>\n",
       "      <td>407.000000</td>\n",
       "      <td>407.000000</td>\n",
       "      <td>407.000000</td>\n",
       "      <td>407.000000</td>\n",
       "    </tr>\n",
       "    <tr>\n",
       "      <th>mean</th>\n",
       "      <td>1.312039</td>\n",
       "      <td>2.542998</td>\n",
       "      <td>11348.941032</td>\n",
       "      <td>5092.633907</td>\n",
       "      <td>7446.877150</td>\n",
       "      <td>2737.017199</td>\n",
       "      <td>2746.036855</td>\n",
       "      <td>1056.034398</td>\n",
       "    </tr>\n",
       "    <tr>\n",
       "      <th>std</th>\n",
       "      <td>0.463896</td>\n",
       "      <td>0.773638</td>\n",
       "      <td>11350.124650</td>\n",
       "      <td>6205.684870</td>\n",
       "      <td>9093.010555</td>\n",
       "      <td>3619.453315</td>\n",
       "      <td>4638.273986</td>\n",
       "      <td>820.341190</td>\n",
       "    </tr>\n",
       "    <tr>\n",
       "      <th>min</th>\n",
       "      <td>1.000000</td>\n",
       "      <td>1.000000</td>\n",
       "      <td>3.000000</td>\n",
       "      <td>55.000000</td>\n",
       "      <td>3.000000</td>\n",
       "      <td>25.000000</td>\n",
       "      <td>3.000000</td>\n",
       "      <td>3.000000</td>\n",
       "    </tr>\n",
       "    <tr>\n",
       "      <th>25%</th>\n",
       "      <td>1.000000</td>\n",
       "      <td>2.000000</td>\n",
       "      <td>3077.000000</td>\n",
       "      <td>1468.000000</td>\n",
       "      <td>2089.500000</td>\n",
       "      <td>667.500000</td>\n",
       "      <td>245.000000</td>\n",
       "      <td>387.000000</td>\n",
       "    </tr>\n",
       "    <tr>\n",
       "      <th>50%</th>\n",
       "      <td>1.000000</td>\n",
       "      <td>3.000000</td>\n",
       "      <td>8257.000000</td>\n",
       "      <td>3373.000000</td>\n",
       "      <td>4563.000000</td>\n",
       "      <td>1439.000000</td>\n",
       "      <td>778.000000</td>\n",
       "      <td>834.000000</td>\n",
       "    </tr>\n",
       "    <tr>\n",
       "      <th>75%</th>\n",
       "      <td>2.000000</td>\n",
       "      <td>3.000000</td>\n",
       "      <td>15999.000000</td>\n",
       "      <td>6744.500000</td>\n",
       "      <td>9806.500000</td>\n",
       "      <td>3247.000000</td>\n",
       "      <td>3774.500000</td>\n",
       "      <td>1542.500000</td>\n",
       "    </tr>\n",
       "    <tr>\n",
       "      <th>max</th>\n",
       "      <td>2.000000</td>\n",
       "      <td>3.000000</td>\n",
       "      <td>76237.000000</td>\n",
       "      <td>73498.000000</td>\n",
       "      <td>92780.000000</td>\n",
       "      <td>35009.000000</td>\n",
       "      <td>40827.000000</td>\n",
       "      <td>3271.000000</td>\n",
       "    </tr>\n",
       "  </tbody>\n",
       "</table>\n",
       "</div>"
      ],
      "text/plain": [
       "          Channel      Region         Fresh          Milk       Grocery  \\\n",
       "count  407.000000  407.000000    407.000000    407.000000    407.000000   \n",
       "mean     1.312039    2.542998  11348.941032   5092.633907   7446.877150   \n",
       "std      0.463896    0.773638  11350.124650   6205.684870   9093.010555   \n",
       "min      1.000000    1.000000      3.000000     55.000000      3.000000   \n",
       "25%      1.000000    2.000000   3077.000000   1468.000000   2089.500000   \n",
       "50%      1.000000    3.000000   8257.000000   3373.000000   4563.000000   \n",
       "75%      2.000000    3.000000  15999.000000   6744.500000   9806.500000   \n",
       "max      2.000000    3.000000  76237.000000  73498.000000  92780.000000   \n",
       "\n",
       "             Frozen  Detergents_Paper   Delicassen  \n",
       "count    407.000000        407.000000   407.000000  \n",
       "mean    2737.017199       2746.036855  1056.034398  \n",
       "std     3619.453315       4638.273986   820.341190  \n",
       "min       25.000000          3.000000     3.000000  \n",
       "25%      667.500000        245.000000   387.000000  \n",
       "50%     1439.000000        778.000000   834.000000  \n",
       "75%     3247.000000       3774.500000  1542.500000  \n",
       "max    35009.000000      40827.000000  3271.000000  "
      ]
     },
     "execution_count": 75,
     "metadata": {},
     "output_type": "execute_result"
    }
   ],
   "source": [
    "# Overall summary of the whole dataframe \n",
    "new_Delicassen3.describe()"
   ]
  },
  {
   "cell_type": "code",
   "execution_count": 76,
   "id": "ba77af9f",
   "metadata": {},
   "outputs": [
    {
     "data": {
      "text/plain": [
       "count      407.000000\n",
       "mean     11348.941032\n",
       "std      11350.124650\n",
       "min          3.000000\n",
       "25%       3077.000000\n",
       "50%       8257.000000\n",
       "75%      15999.000000\n",
       "max      76237.000000\n",
       "Name: Fresh, dtype: float64"
      ]
     },
     "execution_count": 76,
     "metadata": {},
     "output_type": "execute_result"
    }
   ],
   "source": [
    "# Summary of the Fresh column distribution\n",
    "x = new_Delicassen3['Fresh']\n",
    "x.describe()"
   ]
  },
  {
   "cell_type": "code",
   "execution_count": 77,
   "id": "22152588",
   "metadata": {},
   "outputs": [
    {
     "data": {
      "text/plain": [
       "count      407.000000\n",
       "mean      5092.633907\n",
       "std       6205.684870\n",
       "min         55.000000\n",
       "25%       1468.000000\n",
       "50%       3373.000000\n",
       "75%       6744.500000\n",
       "max      73498.000000\n",
       "Name: Milk, dtype: float64"
      ]
     },
     "execution_count": 77,
     "metadata": {},
     "output_type": "execute_result"
    }
   ],
   "source": [
    "# Summary of the Milk column distribution\n",
    "x = new_Delicassen3['Milk']\n",
    "x.describe()"
   ]
  },
  {
   "cell_type": "code",
   "execution_count": 78,
   "id": "d7ab6a45",
   "metadata": {},
   "outputs": [
    {
     "data": {
      "text/plain": [
       "count      407.000000\n",
       "mean      7446.877150\n",
       "std       9093.010555\n",
       "min          3.000000\n",
       "25%       2089.500000\n",
       "50%       4563.000000\n",
       "75%       9806.500000\n",
       "max      92780.000000\n",
       "Name: Grocery, dtype: float64"
      ]
     },
     "execution_count": 78,
     "metadata": {},
     "output_type": "execute_result"
    }
   ],
   "source": [
    "# Summary of the Grocery column distribution\n",
    "x = new_Delicassen3['Grocery']\n",
    "x.describe()"
   ]
  },
  {
   "cell_type": "code",
   "execution_count": 79,
   "id": "97c45f3e",
   "metadata": {},
   "outputs": [
    {
     "data": {
      "text/plain": [
       "count      407.000000\n",
       "mean      2737.017199\n",
       "std       3619.453315\n",
       "min         25.000000\n",
       "25%        667.500000\n",
       "50%       1439.000000\n",
       "75%       3247.000000\n",
       "max      35009.000000\n",
       "Name: Frozen, dtype: float64"
      ]
     },
     "execution_count": 79,
     "metadata": {},
     "output_type": "execute_result"
    }
   ],
   "source": [
    "# Summary of the Frozen column distribution\n",
    "x = new_Delicassen3['Frozen']\n",
    "x.describe()"
   ]
  },
  {
   "cell_type": "code",
   "execution_count": 80,
   "id": "facd34bd",
   "metadata": {},
   "outputs": [
    {
     "data": {
      "text/plain": [
       "count      407.000000\n",
       "mean      2746.036855\n",
       "std       4638.273986\n",
       "min          3.000000\n",
       "25%        245.000000\n",
       "50%        778.000000\n",
       "75%       3774.500000\n",
       "max      40827.000000\n",
       "Name: Detergents_Paper, dtype: float64"
      ]
     },
     "execution_count": 80,
     "metadata": {},
     "output_type": "execute_result"
    }
   ],
   "source": [
    "# Summary of the Detergents_Paper column distribution\n",
    "x = new_Delicassen3['Detergents_Paper']\n",
    "x.describe()"
   ]
  },
  {
   "cell_type": "code",
   "execution_count": 81,
   "id": "f2ea0470",
   "metadata": {
    "scrolled": false
   },
   "outputs": [
    {
     "data": {
      "text/plain": [
       "count     407.000000\n",
       "mean     1056.034398\n",
       "std       820.341190\n",
       "min         3.000000\n",
       "25%       387.000000\n",
       "50%       834.000000\n",
       "75%      1542.500000\n",
       "max      3271.000000\n",
       "Name: Delicassen, dtype: float64"
      ]
     },
     "execution_count": 81,
     "metadata": {},
     "output_type": "execute_result"
    }
   ],
   "source": [
    "# Summary of the Delicassen column distribution\n",
    "x = new_Delicassen3['Delicassen']\n",
    "x.describe()"
   ]
  },
  {
   "cell_type": "markdown",
   "id": "6c123211",
   "metadata": {},
   "source": [
    "### Pie-Charts for exploring Channels and Regions"
   ]
  },
  {
   "cell_type": "code",
   "execution_count": 82,
   "id": "74b7e793",
   "metadata": {},
   "outputs": [
    {
     "data": {
      "text/plain": [
       "1    280\n",
       "2    127\n",
       "Name: Channel, dtype: int64"
      ]
     },
     "execution_count": 82,
     "metadata": {},
     "output_type": "execute_result"
    }
   ],
   "source": [
    "x= new_Delicassen3.Channel\n",
    "x.value_counts()"
   ]
  },
  {
   "cell_type": "code",
   "execution_count": 83,
   "id": "e55c5a09",
   "metadata": {},
   "outputs": [],
   "source": [
    "Channel_counts = x.value_counts()"
   ]
  },
  {
   "cell_type": "code",
   "execution_count": 84,
   "id": "817e35b9",
   "metadata": {},
   "outputs": [
    {
     "data": {
      "image/png": "[encoded data removed]",
      "text/plain": [
       "<Figure size 432x288 with 1 Axes>"
      ]
     },
     "metadata": {},
     "output_type": "display_data"
    }
   ],
   "source": [
    "pieChart_Channel = Channel_counts\n",
    "\n",
    "df_label = [\"Channel 1\\n 280 counts\", \"Channel 2\\n 127 counts\"]\n",
    "\n",
    "# plotting and labeling the pie chart of Channel\n",
    "plt.pie(pieChart_Channel, labels=df_label)\n",
    "plt.show()"
   ]
  },
  {
   "cell_type": "code",
   "execution_count": 85,
   "id": "4f34b403",
   "metadata": {},
   "outputs": [
    {
     "data": {
      "text/plain": [
       "3    292\n",
       "1     71\n",
       "2     44\n",
       "Name: Region, dtype: int64"
      ]
     },
     "execution_count": 85,
     "metadata": {},
     "output_type": "execute_result"
    }
   ],
   "source": [
    "y= new_Delicassen3.Region\n",
    "y.value_counts()"
   ]
  },
  {
   "cell_type": "code",
   "execution_count": 86,
   "id": "3f7ee54b",
   "metadata": {},
   "outputs": [],
   "source": [
    "y= new_Delicassen3.Region\n",
    "Region_counts = y.value_counts()"
   ]
  },
  {
   "cell_type": "code",
   "execution_count": 87,
   "id": "9090155b",
   "metadata": {},
   "outputs": [
    {
     "data": {
      "image/png": "[encoded data removed]",
      "text/plain": [
       "<Figure size 432x288 with 1 Axes>"
      ]
     },
     "metadata": {},
     "output_type": "display_data"
    }
   ],
   "source": [
    "pieChart_Region = Region_counts\n",
    "\n",
    "df_label = [\"Region 3\\n 292 counts\", \"Region 1\\n 71 counts\", \"Region 2\\n 44 counts\"]\n",
    "\n",
    "# plotting and labeling the pie chart of Region\n",
    "plt.pie(pieChart_Region, labels=df_label)\n",
    "plt.show()"
   ]
  },
  {
   "cell_type": "markdown",
   "id": "900c4290",
   "metadata": {},
   "source": [
    "# Task 2.2: Data Exploration "
   ]
  },
  {
   "cell_type": "markdown",
   "id": "0802b18b",
   "metadata": {},
   "source": [
    "#### Bar Chart for exploring relationship between Channel and all the other 6 wholesale products"
   ]
  },
  {
   "cell_type": "code",
   "execution_count": 88,
   "id": "75a9e6b7",
   "metadata": {},
   "outputs": [
    {
     "data": {
      "image/png": "[encoded data removed]",
      "text/plain": [
       "<Figure size 432x288 with 1 Axes>"
      ]
     },
     "metadata": {},
     "output_type": "display_data"
    }
   ],
   "source": [
    "# Determining what feature will be considered for the x-axis \n",
    "# head() method is enabling the graph to consider only the 1st 10 values\n",
    "x = new_Delicassen3.Channel\n",
    "x\n",
    "\n",
    "# Determining what feature will be considered for the y-axis\n",
    "y = new_Delicassen3.Fresh\n",
    "y\n",
    "\n",
    "# Setting x ticks\n",
    "plt.xticks(np.arange(min(x), max(x)+1, 1.0))\n",
    "\n",
    "plt.bar(x, y)\n",
    "\n",
    "# Labeling the bar chart\n",
    "plt.title(\"No. of annual spending on Fresh product by buyers per Channel\\n\")\n",
    "plt.xlabel(\"Channels\")\n",
    "plt.ylabel(\"No. of annual spending on Fresh\")\n",
    "plt.show()"
   ]
  },
  {
   "cell_type": "code",
   "execution_count": 89,
   "id": "639cf282",
   "metadata": {},
   "outputs": [
    {
     "data": {
      "image/png": "[encoded data removed]",
      "text/plain": [
       "<Figure size 432x288 with 1 Axes>"
      ]
     },
     "metadata": {},
     "output_type": "display_data"
    }
   ],
   "source": [
    "# Determining what feature will be considered for the x-axis \n",
    "# head() method is enabling the graph to consider only the 1st 10 values\n",
    "x = new_Delicassen3.Channel\n",
    "x\n",
    "\n",
    "# Determining what feature will be considered for the y-axis\n",
    "y = new_Delicassen3.Milk\n",
    "y\n",
    "\n",
    "# Setting x ticks\n",
    "plt.xticks(np.arange(min(x), max(x)+1, 1.0))\n",
    "\n",
    "plt.bar(x, y)\n",
    "\n",
    "# Labeling the bar chart\n",
    "plt.title(\"No. of annual spending on Milk product by buyers per Channel\\n\")\n",
    "plt.xlabel(\"Channels\")\n",
    "plt.ylabel(\"No. of  annual spending on Milk\")\n",
    "plt.show()"
   ]
  },
  {
   "cell_type": "code",
   "execution_count": 90,
   "id": "a517ee06",
   "metadata": {},
   "outputs": [
    {
     "data": {
      "image/png": "[encoded data removed]",
      "text/plain": [
       "<Figure size 432x288 with 1 Axes>"
      ]
     },
     "metadata": {},
     "output_type": "display_data"
    }
   ],
   "source": [
    "# Determining what feature will be considered for the x-axis \n",
    "# head() method is enabling the graph to consider only the 1st 10 values\n",
    "x = new_Delicassen3.Channel\n",
    "x\n",
    "\n",
    "# Determining what feature will be considered for the y-axis\n",
    "y = new_Delicassen3.Grocery\n",
    "y\n",
    "\n",
    "# Setting x ticks\n",
    "plt.xticks(np.arange(min(x), max(x)+1, 1.0))\n",
    "\n",
    "plt.bar(x, y)\n",
    "\n",
    "# Labeling the bar chart\n",
    "plt.title(\"No. of annual spending on Grocery product by buyers per Channel\\n\")\n",
    "plt.xlabel(\"Channels\")\n",
    "plt.ylabel(\"No. of annual spending on Grocery\")\n",
    "plt.show()"
   ]
  },
  {
   "cell_type": "code",
   "execution_count": 91,
   "id": "4656478c",
   "metadata": {},
   "outputs": [
    {
     "data": {
      "image/png": "[encoded data removed]",
      "text/plain": [
       "<Figure size 432x288 with 1 Axes>"
      ]
     },
     "metadata": {},
     "output_type": "display_data"
    }
   ],
   "source": [
    "# Determining what feature will be considered for the x-axis \n",
    "# head() method is enabling the graph to consider only the 1st 10 values\n",
    "x = new_Delicassen3.Channel\n",
    "x\n",
    "\n",
    "# Determining what feature will be considered for the y-axis\n",
    "y = new_Delicassen3.Frozen\n",
    "y\n",
    "\n",
    "# Setting x ticks\n",
    "plt.xticks(np.arange(min(x), max(x)+1, 1.0))\n",
    "\n",
    "plt.bar(x, y)\n",
    "\n",
    "# Labeling the bar chart\n",
    "plt.title(\"No. of annual spending on Frozen product by buyers per Channel\\n\")\n",
    "plt.xlabel(\"Channels\")\n",
    "plt.ylabel(\"No. of  annual spending on Frozen\")\n",
    "plt.show()"
   ]
  },
  {
   "cell_type": "code",
   "execution_count": 92,
   "id": "de56be9d",
   "metadata": {},
   "outputs": [
    {
     "data": {
      "image/png": "[encoded data removed]",
      "text/plain": [
       "<Figure size 432x288 with 1 Axes>"
      ]
     },
     "metadata": {},
     "output_type": "display_data"
    }
   ],
   "source": [
    "# Determining what feature will be considered for the x-axis \n",
    "# head() method is enabling the graph to consider only the 1st 10 values\n",
    "x = new_Delicassen3.Channel\n",
    "x\n",
    "\n",
    "# Determining what feature will be considered for the y-axis\n",
    "y = new_Delicassen3.Detergents_Paper\n",
    "y\n",
    "\n",
    "# Setting x ticks\n",
    "plt.xticks(np.arange(min(x), max(x)+1, 1.0))\n",
    "\n",
    "plt.bar(x, y)\n",
    "\n",
    "# Labeling the bar chart\n",
    "plt.title(\"No. of annual spending on Detergents_Paper product by buyers per Channel\\n\")\n",
    "plt.xlabel(\"Channels\")\n",
    "plt.ylabel(\"No. of annual spending on Detergents_Paper\")\n",
    "plt.show()"
   ]
  },
  {
   "cell_type": "code",
   "execution_count": 93,
   "id": "711d46af",
   "metadata": {},
   "outputs": [
    {
     "data": {
      "image/png": "[encoded data removed]",
      "text/plain": [
       "<Figure size 432x288 with 1 Axes>"
      ]
     },
     "metadata": {},
     "output_type": "display_data"
    }
   ],
   "source": [
    "# Determining what feature will be considered for the x-axis \n",
    "# head() method is enabling the graph to consider only the 1st 10 values\n",
    "x = new_Delicassen3.Channel\n",
    "x\n",
    "\n",
    "# Determining what feature will be considered for the y-axis\n",
    "y = new_Delicassen3.Delicassen\n",
    "y\n",
    "\n",
    "# Setting x ticks\n",
    "plt.xticks(np.arange(min(x), max(x)+1, 1.0))\n",
    "\n",
    "plt.bar(x, y)\n",
    "\n",
    "# Labeling the bar chart\n",
    "plt.title(\"No. of annual spending on Delicassen product by buyers per Channel\\n\")\n",
    "plt.xlabel(\"Channels\")\n",
    "plt.ylabel(\"No. of annual spending on Delicassen\")\n",
    "plt.show()"
   ]
  },
  {
   "cell_type": "markdown",
   "id": "02703d2b",
   "metadata": {},
   "source": [
    "#### Bar Chart for exploring relationship between Region and all the other 6 wholesale products"
   ]
  },
  {
   "cell_type": "code",
   "execution_count": 94,
   "id": "ed2ed315",
   "metadata": {},
   "outputs": [
    {
     "data": {
      "image/png": "[encoded data removed]",
      "text/plain": [
       "<Figure size 432x288 with 1 Axes>"
      ]
     },
     "metadata": {},
     "output_type": "display_data"
    }
   ],
   "source": [
    "# Determining what feature will be considered for the x-axis \n",
    "# head() method is enabling the graph to consider only the 1st 10 values\n",
    "x = new_Delicassen3.Region\n",
    "x\n",
    "\n",
    "# Determining what feature will be considered for the y-axis\n",
    "y = new_Delicassen3.Fresh\n",
    "y\n",
    "\n",
    "# Setting x ticks\n",
    "plt.xticks(np.arange(min(x), max(x)+1, 1.0))\n",
    "\n",
    "plt.bar(x, y)\n",
    "\n",
    "# Labeling the bar chart\n",
    "plt.title(\"No. of annual spending on Fresh product by buyers per Region\\n\")\n",
    "plt.xlabel(\"Regions\")\n",
    "plt.ylabel(\"No. of annual spending on Fresh\")\n",
    "plt.show()"
   ]
  },
  {
   "cell_type": "code",
   "execution_count": 95,
   "id": "93be787b",
   "metadata": {},
   "outputs": [
    {
     "data": {
      "image/png": "[encoded data removed]",
      "text/plain": [
       "<Figure size 432x288 with 1 Axes>"
      ]
     },
     "metadata": {},
     "output_type": "display_data"
    }
   ],
   "source": [
    "# Determining what feature will be considered for the x-axis \n",
    "# head() method is enabling the graph to consider only the 1st 10 values\n",
    "x = new_Delicassen3.Region\n",
    "x\n",
    "\n",
    "# Determining what feature will be considered for the y-axis\n",
    "y = new_Delicassen3.Milk\n",
    "y\n",
    "\n",
    "# Setting x ticks\n",
    "plt.xticks(np.arange(min(x), max(x)+1, 1.0))\n",
    "\n",
    "plt.bar(x, y)\n",
    "\n",
    "# Labeling the bar chart\n",
    "plt.title(\"No. of annual spending on Milk product by buyers per Region\\n\")\n",
    "plt.xlabel(\"Regions\")\n",
    "plt.ylabel(\"No. of  annual spending on Milk\")\n",
    "plt.show()"
   ]
  },
  {
   "cell_type": "code",
   "execution_count": 96,
   "id": "fb387ce1",
   "metadata": {},
   "outputs": [
    {
     "data": {
      "image/png": "[encoded data removed]",
      "text/plain": [
       "<Figure size 432x288 with 1 Axes>"
      ]
     },
     "metadata": {},
     "output_type": "display_data"
    }
   ],
   "source": [
    "# Determining what feature will be considered for the x-axis \n",
    "# head() method is enabling the graph to consider only the 1st 10 values\n",
    "x = new_Delicassen3.Region\n",
    "x\n",
    "\n",
    "# Determining what feature will be considered for the y-axis\n",
    "y = new_Delicassen3.Grocery\n",
    "y\n",
    "\n",
    "# Setting x ticks\n",
    "plt.xticks(np.arange(min(x), max(x)+1, 1.0))\n",
    "\n",
    "plt.bar(x, y)\n",
    "\n",
    "# Labeling the bar chart\n",
    "plt.title(\"No. of annual spending on Grocery product by buyers per Region\\n\")\n",
    "plt.xlabel(\"Regions\")\n",
    "plt.ylabel(\"No. of annual spending on Grocery\")\n",
    "plt.show()"
   ]
  },
  {
   "cell_type": "code",
   "execution_count": 97,
   "id": "060897ec",
   "metadata": {},
   "outputs": [
    {
     "data": {
      "image/png": "[encoded data removed]",
      "text/plain": [
       "<Figure size 432x288 with 1 Axes>"
      ]
     },
     "metadata": {},
     "output_type": "display_data"
    }
   ],
   "source": [
    "# Determining what feature will be considered for the x-axis \n",
    "# head() method is enabling the graph to consider only the 1st 10 values\n",
    "x = new_Delicassen3.Region\n",
    "x\n",
    "\n",
    "# Determining what feature will be considered for the y-axis\n",
    "y = new_Delicassen3.Frozen\n",
    "y\n",
    "\n",
    "# Setting x ticks\n",
    "plt.xticks(np.arange(min(x), max(x)+1, 1.0))\n",
    "\n",
    "plt.bar(x, y)\n",
    "\n",
    "# Labeling the bar chart\n",
    "plt.title(\"No. of annual spending on Frozen product by buyers per Region\\n\")\n",
    "plt.xlabel(\"Regions\")\n",
    "plt.ylabel(\"No. of  annual spending on Frozen\")\n",
    "plt.show()"
   ]
  },
  {
   "cell_type": "code",
   "execution_count": 98,
   "id": "e0c75520",
   "metadata": {},
   "outputs": [
    {
     "data": {
      "image/png": "[encoded data removed]",
      "text/plain": [
       "<Figure size 432x288 with 1 Axes>"
      ]
     },
     "metadata": {},
     "output_type": "display_data"
    }
   ],
   "source": [
    "# Determining what feature will be considered for the x-axis \n",
    "# head() method is enabling the graph to consider only the 1st 10 values\n",
    "x = new_Delicassen3.Region\n",
    "x\n",
    "\n",
    "# Determining what feature will be considered for the y-axis\n",
    "y = new_Delicassen3.Detergents_Paper\n",
    "y\n",
    "\n",
    "# Setting x ticks\n",
    "plt.xticks(np.arange(min(x), max(x)+1, 1.0))\n",
    "\n",
    "plt.bar(x, y)\n",
    "\n",
    "# Labeling the bar chart\n",
    "plt.title(\"No. of annual spending on Detergents_Paper product by buyers per Region\\n\")\n",
    "plt.xlabel(\"Regions\")\n",
    "plt.ylabel(\"No. of annual spending on Detergents_Paper\")\n",
    "plt.show()"
   ]
  },
  {
   "cell_type": "code",
   "execution_count": 99,
   "id": "70ec8f01",
   "metadata": {},
   "outputs": [
    {
     "data": {
      "image/png": "[encoded data removed]",
      "text/plain": [
       "<Figure size 432x288 with 1 Axes>"
      ]
     },
     "metadata": {},
     "output_type": "display_data"
    }
   ],
   "source": [
    "# Determining what feature will be considered for the x-axis \n",
    "# head() method is enabling the graph to consider only the 1st 10 values\n",
    "x = new_Delicassen3.Region\n",
    "x\n",
    "\n",
    "# Determining what feature will be considered for the y-axis\n",
    "y = new_Delicassen3.Delicassen\n",
    "y\n",
    "\n",
    "# Setting x ticks\n",
    "plt.xticks(np.arange(min(x), max(x)+1, 1.0))\n",
    "\n",
    "plt.bar(x, y)\n",
    "\n",
    "# Labeling the bar chart\n",
    "plt.title(\"No. of annual spending on Delicassen product by buyers per Region\\n\")\n",
    "plt.xlabel(\"Regions\")\n",
    "plt.ylabel(\"No. of annual spending on Delicassen\")\n",
    "plt.show()"
   ]
  },
  {
   "cell_type": "markdown",
   "id": "ad92c92d",
   "metadata": {},
   "source": [
    "#### Scatter-Plots for exploring relationship between numerical column"
   ]
  },
  {
   "cell_type": "code",
   "execution_count": 100,
   "id": "5bd377c7",
   "metadata": {},
   "outputs": [
    {
     "data": {
      "image/png": "[encoded data removed]",
      "text/plain": [
       "<Figure size 432x288 with 1 Axes>"
      ]
     },
     "metadata": {},
     "output_type": "display_data"
    }
   ],
   "source": [
    "# Scatter plot for annual spending on Fresh versus Grocery\n",
    "x = new_Delicassen3.Grocery\n",
    "y = new_Delicassen3.Fresh\n",
    "\n",
    "plt.scatter(x, y)\n",
    "\n",
    "# Labeling the scatter plot\n",
    "plt.title(\"Annual spending on Fresh versus Grocery\\n\")\n",
    "plt.xlabel(\"Annual spending on Grocery\")\n",
    "plt.ylabel(\"Annual spending on Fresh\")\n",
    "\n",
    "plt.show()"
   ]
  },
  {
   "cell_type": "code",
   "execution_count": 101,
   "id": "209bb3f7",
   "metadata": {},
   "outputs": [
    {
     "data": {
      "image/png": "[encoded data removed]",
      "text/plain": [
       "<Figure size 432x288 with 1 Axes>"
      ]
     },
     "metadata": {},
     "output_type": "display_data"
    }
   ],
   "source": [
    "# Scatter plot for annual spending on Frozen versus Milk\n",
    "x = new_Delicassen3.Milk\n",
    "y = new_Delicassen3.Frozen\n",
    "\n",
    "plt.scatter(x, y)\n",
    "\n",
    "# Labeling the scatter plot\n",
    "plt.title(\"Annual spending on Frozen versus Milk\\n\")\n",
    "plt.xlabel(\"Annual spending on Milk\")\n",
    "plt.ylabel(\"Annual spending on Frozen\")\n",
    "\n",
    "plt.show()"
   ]
  },
  {
   "cell_type": "code",
   "execution_count": 102,
   "id": "a076c7ce",
   "metadata": {},
   "outputs": [
    {
     "data": {
      "image/png": "[encoded data removed]",
      "text/plain": [
       "<Figure size 432x288 with 1 Axes>"
      ]
     },
     "metadata": {},
     "output_type": "display_data"
    }
   ],
   "source": [
    "# Scatter plot for annual spending on Delicassen versus Grocery\n",
    "x = new_Delicassen3.Grocery\n",
    "y = new_Delicassen3.Delicassen\n",
    "\n",
    "plt.scatter(x, y)\n",
    "\n",
    "# Labeling the scatter plot\n",
    "plt.title(\"Annual spending on Delicassen versus Grocery\\n\")\n",
    "plt.xlabel(\"Annual spending on Grocery\")\n",
    "plt.ylabel(\"Annual spending on Delicassen\")\n",
    "\n",
    "plt.show()"
   ]
  },
  {
   "cell_type": "code",
   "execution_count": 103,
   "id": "74255ceb",
   "metadata": {},
   "outputs": [
    {
     "data": {
      "image/png": "[encoded data removed]",
      "text/plain": [
       "<Figure size 432x288 with 1 Axes>"
      ]
     },
     "metadata": {},
     "output_type": "display_data"
    }
   ],
   "source": [
    "# Scatter plot for annual spending on Detergents_Paper versus Grocery\n",
    "x = new_Delicassen3.Grocery\n",
    "y = new_Delicassen3.Detergents_Paper\n",
    "\n",
    "plt.scatter(x, y)\n",
    "\n",
    "# Labeling the scatter plot\n",
    "plt.title(\"Annual spending on Detergents_Paper versus Grocery\\n\")\n",
    "plt.xlabel(\"Annual spending on Grocery\")\n",
    "plt.ylabel(\"Annual spending on Detergents_Paper\")\n",
    "\n",
    "plt.show()"
   ]
  },
  {
   "cell_type": "markdown",
   "id": "cd173d2c",
   "metadata": {},
   "source": [
    "## Task 3: Data Modelling"
   ]
  },
  {
   "cell_type": "markdown",
   "id": "070927d7",
   "metadata": {},
   "source": [
    "### KMeans clustering"
   ]
  },
  {
   "cell_type": "code",
   "execution_count": 104,
   "id": "f5e7b497",
   "metadata": {},
   "outputs": [],
   "source": [
    "import sklearn.datasets "
   ]
  },
  {
   "cell_type": "code",
   "execution_count": 105,
   "id": "36b64f2b",
   "metadata": {},
   "outputs": [],
   "source": [
    "cleaned_df = new_Delicassen3.to_csv('cleaned_df.csv', index=False)"
   ]
  },
  {
   "cell_type": "code",
   "execution_count": 106,
   "id": "c99dc6f0",
   "metadata": {},
   "outputs": [],
   "source": [
    "cleaned_data = 'C:/Users/Nushura/s3796107/cleaned_df.csv'\n",
    "dataset = pd.read_csv(cleaned_data)"
   ]
  },
  {
   "cell_type": "code",
   "execution_count": 107,
   "id": "5c59a4f1",
   "metadata": {},
   "outputs": [
    {
     "data": {
      "text/plain": [
       "pandas.core.frame.DataFrame"
      ]
     },
     "execution_count": 107,
     "metadata": {},
     "output_type": "execute_result"
    }
   ],
   "source": [
    "type(dataset)"
   ]
  },
  {
   "cell_type": "code",
   "execution_count": 108,
   "id": "c37dacce",
   "metadata": {},
   "outputs": [
    {
     "data": {
      "text/plain": [
       "(407, 8)"
      ]
     },
     "execution_count": 108,
     "metadata": {},
     "output_type": "execute_result"
    }
   ],
   "source": [
    "dataset.shape"
   ]
  },
  {
   "cell_type": "code",
   "execution_count": 109,
   "id": "264c442c",
   "metadata": {},
   "outputs": [
    {
     "data": {
      "text/html": [
       "<div>\n",
       "<style scoped>\n",
       "    .dataframe tbody tr th:only-of-type {\n",
       "        vertical-align: middle;\n",
       "    }\n",
       "\n",
       "    .dataframe tbody tr th {\n",
       "        vertical-align: top;\n",
       "    }\n",
       "\n",
       "    .dataframe thead th {\n",
       "        text-align: right;\n",
       "    }\n",
       "</style>\n",
       "<table border=\"1\" class=\"dataframe\">\n",
       "  <thead>\n",
       "    <tr style=\"text-align: right;\">\n",
       "      <th></th>\n",
       "      <th>Channel</th>\n",
       "      <th>Region</th>\n",
       "      <th>Fresh</th>\n",
       "      <th>Milk</th>\n",
       "      <th>Grocery</th>\n",
       "      <th>Frozen</th>\n",
       "      <th>Detergents_Paper</th>\n",
       "      <th>Delicassen</th>\n",
       "    </tr>\n",
       "  </thead>\n",
       "  <tbody>\n",
       "    <tr>\n",
       "      <th>0</th>\n",
       "      <td>2</td>\n",
       "      <td>3</td>\n",
       "      <td>12669</td>\n",
       "      <td>9656</td>\n",
       "      <td>7561</td>\n",
       "      <td>214</td>\n",
       "      <td>2674</td>\n",
       "      <td>1338</td>\n",
       "    </tr>\n",
       "    <tr>\n",
       "      <th>1</th>\n",
       "      <td>2</td>\n",
       "      <td>3</td>\n",
       "      <td>7057</td>\n",
       "      <td>9810</td>\n",
       "      <td>9568</td>\n",
       "      <td>1762</td>\n",
       "      <td>3293</td>\n",
       "      <td>1776</td>\n",
       "    </tr>\n",
       "    <tr>\n",
       "      <th>2</th>\n",
       "      <td>1</td>\n",
       "      <td>3</td>\n",
       "      <td>13265</td>\n",
       "      <td>1196</td>\n",
       "      <td>4221</td>\n",
       "      <td>6404</td>\n",
       "      <td>507</td>\n",
       "      <td>1788</td>\n",
       "    </tr>\n",
       "    <tr>\n",
       "      <th>3</th>\n",
       "      <td>2</td>\n",
       "      <td>3</td>\n",
       "      <td>9413</td>\n",
       "      <td>8259</td>\n",
       "      <td>5126</td>\n",
       "      <td>666</td>\n",
       "      <td>1795</td>\n",
       "      <td>1451</td>\n",
       "    </tr>\n",
       "    <tr>\n",
       "      <th>4</th>\n",
       "      <td>2</td>\n",
       "      <td>3</td>\n",
       "      <td>12126</td>\n",
       "      <td>3199</td>\n",
       "      <td>6975</td>\n",
       "      <td>480</td>\n",
       "      <td>3140</td>\n",
       "      <td>545</td>\n",
       "    </tr>\n",
       "  </tbody>\n",
       "</table>\n",
       "</div>"
      ],
      "text/plain": [
       "   Channel  Region  Fresh  Milk  Grocery  Frozen  Detergents_Paper  Delicassen\n",
       "0        2       3  12669  9656     7561     214              2674        1338\n",
       "1        2       3   7057  9810     9568    1762              3293        1776\n",
       "2        1       3  13265  1196     4221    6404               507        1788\n",
       "3        2       3   9413  8259     5126     666              1795        1451\n",
       "4        2       3  12126  3199     6975     480              3140         545"
      ]
     },
     "execution_count": 109,
     "metadata": {},
     "output_type": "execute_result"
    }
   ],
   "source": [
    "dataset.head()"
   ]
  },
  {
   "cell_type": "code",
   "execution_count": 110,
   "id": "2f991086",
   "metadata": {},
   "outputs": [
    {
     "name": "stdout",
     "output_type": "stream",
     "text": [
      "<class 'pandas.core.frame.DataFrame'>\n",
      "RangeIndex: 407 entries, 0 to 406\n",
      "Data columns (total 8 columns):\n",
      " #   Column            Non-Null Count  Dtype\n",
      "---  ------            --------------  -----\n",
      " 0   Channel           407 non-null    int64\n",
      " 1   Region            407 non-null    int64\n",
      " 2   Fresh             407 non-null    int64\n",
      " 3   Milk              407 non-null    int64\n",
      " 4   Grocery           407 non-null    int64\n",
      " 5   Frozen            407 non-null    int64\n",
      " 6   Detergents_Paper  407 non-null    int64\n",
      " 7   Delicassen        407 non-null    int64\n",
      "dtypes: int64(8)\n",
      "memory usage: 25.6 KB\n"
     ]
    }
   ],
   "source": [
    "dataset.info()"
   ]
  },
  {
   "cell_type": "code",
   "execution_count": 111,
   "id": "c82c4e37",
   "metadata": {},
   "outputs": [
    {
     "data": {
      "text/html": [
       "<div>\n",
       "<style scoped>\n",
       "    .dataframe tbody tr th:only-of-type {\n",
       "        vertical-align: middle;\n",
       "    }\n",
       "\n",
       "    .dataframe tbody tr th {\n",
       "        vertical-align: top;\n",
       "    }\n",
       "\n",
       "    .dataframe thead th {\n",
       "        text-align: right;\n",
       "    }\n",
       "</style>\n",
       "<table border=\"1\" class=\"dataframe\">\n",
       "  <thead>\n",
       "    <tr style=\"text-align: right;\">\n",
       "      <th></th>\n",
       "      <th>Channel</th>\n",
       "      <th>Region</th>\n",
       "      <th>Fresh</th>\n",
       "      <th>Milk</th>\n",
       "      <th>Grocery</th>\n",
       "      <th>Frozen</th>\n",
       "      <th>Detergents_Paper</th>\n",
       "      <th>Delicassen</th>\n",
       "    </tr>\n",
       "  </thead>\n",
       "  <tbody>\n",
       "    <tr>\n",
       "      <th>0</th>\n",
       "      <td>2</td>\n",
       "      <td>3</td>\n",
       "      <td>12669</td>\n",
       "      <td>9656</td>\n",
       "      <td>7561</td>\n",
       "      <td>214</td>\n",
       "      <td>2674</td>\n",
       "      <td>1338</td>\n",
       "    </tr>\n",
       "    <tr>\n",
       "      <th>1</th>\n",
       "      <td>2</td>\n",
       "      <td>3</td>\n",
       "      <td>7057</td>\n",
       "      <td>9810</td>\n",
       "      <td>9568</td>\n",
       "      <td>1762</td>\n",
       "      <td>3293</td>\n",
       "      <td>1776</td>\n",
       "    </tr>\n",
       "    <tr>\n",
       "      <th>2</th>\n",
       "      <td>1</td>\n",
       "      <td>3</td>\n",
       "      <td>13265</td>\n",
       "      <td>1196</td>\n",
       "      <td>4221</td>\n",
       "      <td>6404</td>\n",
       "      <td>507</td>\n",
       "      <td>1788</td>\n",
       "    </tr>\n",
       "    <tr>\n",
       "      <th>3</th>\n",
       "      <td>2</td>\n",
       "      <td>3</td>\n",
       "      <td>9413</td>\n",
       "      <td>8259</td>\n",
       "      <td>5126</td>\n",
       "      <td>666</td>\n",
       "      <td>1795</td>\n",
       "      <td>1451</td>\n",
       "    </tr>\n",
       "    <tr>\n",
       "      <th>4</th>\n",
       "      <td>2</td>\n",
       "      <td>3</td>\n",
       "      <td>12126</td>\n",
       "      <td>3199</td>\n",
       "      <td>6975</td>\n",
       "      <td>480</td>\n",
       "      <td>3140</td>\n",
       "      <td>545</td>\n",
       "    </tr>\n",
       "    <tr>\n",
       "      <th>...</th>\n",
       "      <td>...</td>\n",
       "      <td>...</td>\n",
       "      <td>...</td>\n",
       "      <td>...</td>\n",
       "      <td>...</td>\n",
       "      <td>...</td>\n",
       "      <td>...</td>\n",
       "      <td>...</td>\n",
       "    </tr>\n",
       "    <tr>\n",
       "      <th>402</th>\n",
       "      <td>1</td>\n",
       "      <td>3</td>\n",
       "      <td>29703</td>\n",
       "      <td>12051</td>\n",
       "      <td>16027</td>\n",
       "      <td>13135</td>\n",
       "      <td>182</td>\n",
       "      <td>2204</td>\n",
       "    </tr>\n",
       "    <tr>\n",
       "      <th>403</th>\n",
       "      <td>1</td>\n",
       "      <td>3</td>\n",
       "      <td>39228</td>\n",
       "      <td>1431</td>\n",
       "      <td>764</td>\n",
       "      <td>4510</td>\n",
       "      <td>93</td>\n",
       "      <td>2346</td>\n",
       "    </tr>\n",
       "    <tr>\n",
       "      <th>404</th>\n",
       "      <td>2</td>\n",
       "      <td>3</td>\n",
       "      <td>14531</td>\n",
       "      <td>15488</td>\n",
       "      <td>30243</td>\n",
       "      <td>437</td>\n",
       "      <td>14841</td>\n",
       "      <td>1867</td>\n",
       "    </tr>\n",
       "    <tr>\n",
       "      <th>405</th>\n",
       "      <td>1</td>\n",
       "      <td>3</td>\n",
       "      <td>10290</td>\n",
       "      <td>1981</td>\n",
       "      <td>2232</td>\n",
       "      <td>1038</td>\n",
       "      <td>168</td>\n",
       "      <td>2125</td>\n",
       "    </tr>\n",
       "    <tr>\n",
       "      <th>406</th>\n",
       "      <td>1</td>\n",
       "      <td>3</td>\n",
       "      <td>2787</td>\n",
       "      <td>1698</td>\n",
       "      <td>2510</td>\n",
       "      <td>65</td>\n",
       "      <td>477</td>\n",
       "      <td>52</td>\n",
       "    </tr>\n",
       "  </tbody>\n",
       "</table>\n",
       "<p>407 rows × 8 columns</p>\n",
       "</div>"
      ],
      "text/plain": [
       "     Channel  Region  Fresh   Milk  Grocery  Frozen  Detergents_Paper  \\\n",
       "0          2       3  12669   9656     7561     214              2674   \n",
       "1          2       3   7057   9810     9568    1762              3293   \n",
       "2          1       3  13265   1196     4221    6404               507   \n",
       "3          2       3   9413   8259     5126     666              1795   \n",
       "4          2       3  12126   3199     6975     480              3140   \n",
       "..       ...     ...    ...    ...      ...     ...               ...   \n",
       "402        1       3  29703  12051    16027   13135               182   \n",
       "403        1       3  39228   1431      764    4510                93   \n",
       "404        2       3  14531  15488    30243     437             14841   \n",
       "405        1       3  10290   1981     2232    1038               168   \n",
       "406        1       3   2787   1698     2510      65               477   \n",
       "\n",
       "     Delicassen  \n",
       "0          1338  \n",
       "1          1776  \n",
       "2          1788  \n",
       "3          1451  \n",
       "4           545  \n",
       "..          ...  \n",
       "402        2204  \n",
       "403        2346  \n",
       "404        1867  \n",
       "405        2125  \n",
       "406          52  \n",
       "\n",
       "[407 rows x 8 columns]"
      ]
     },
     "execution_count": 111,
     "metadata": {},
     "output_type": "execute_result"
    }
   ],
   "source": [
    "X = pd.DataFrame(dataset)\n",
    "X"
   ]
  },
  {
   "cell_type": "code",
   "execution_count": 112,
   "id": "b21e2272",
   "metadata": {},
   "outputs": [],
   "source": [
    "# Here clustering is done on the whole dataste\n",
    "# n_cluster is refering to the number of clusters \n",
    "# so as there are 8 attributes, the number of cluster is going to be 8\n",
    "model = cluster.KMeans(n_clusters = 8, random_state=14)"
   ]
  },
  {
   "cell_type": "code",
   "execution_count": 113,
   "id": "d3c0016b",
   "metadata": {},
   "outputs": [],
   "source": [
    "# Fitting the model with the dataset\n",
    "fit = model.fit(X)"
   ]
  },
  {
   "cell_type": "code",
   "execution_count": 114,
   "id": "905aaa62",
   "metadata": {},
   "outputs": [],
   "source": [
    "# This created a new column on the dataframe\n",
    "# This column will contain the clustering results\n",
    "# For the cluster column values, it is not certain what those values represent\n",
    "X[\"cluster\"] = fit.predict(X)"
   ]
  },
  {
   "cell_type": "code",
   "execution_count": 115,
   "id": "263f4355",
   "metadata": {},
   "outputs": [
    {
     "data": {
      "text/html": [
       "<div>\n",
       "<style scoped>\n",
       "    .dataframe tbody tr th:only-of-type {\n",
       "        vertical-align: middle;\n",
       "    }\n",
       "\n",
       "    .dataframe tbody tr th {\n",
       "        vertical-align: top;\n",
       "    }\n",
       "\n",
       "    .dataframe thead th {\n",
       "        text-align: right;\n",
       "    }\n",
       "</style>\n",
       "<table border=\"1\" class=\"dataframe\">\n",
       "  <thead>\n",
       "    <tr style=\"text-align: right;\">\n",
       "      <th></th>\n",
       "      <th>Channel</th>\n",
       "      <th>Region</th>\n",
       "      <th>Fresh</th>\n",
       "      <th>Milk</th>\n",
       "      <th>Grocery</th>\n",
       "      <th>Frozen</th>\n",
       "      <th>Detergents_Paper</th>\n",
       "      <th>Delicassen</th>\n",
       "      <th>cluster</th>\n",
       "      <th>c</th>\n",
       "    </tr>\n",
       "  </thead>\n",
       "  <tbody>\n",
       "    <tr>\n",
       "      <th>0</th>\n",
       "      <td>2</td>\n",
       "      <td>3</td>\n",
       "      <td>12669</td>\n",
       "      <td>9656</td>\n",
       "      <td>7561</td>\n",
       "      <td>214</td>\n",
       "      <td>2674</td>\n",
       "      <td>1338</td>\n",
       "      <td>0</td>\n",
       "      <td>count</td>\n",
       "    </tr>\n",
       "    <tr>\n",
       "      <th>1</th>\n",
       "      <td>2</td>\n",
       "      <td>3</td>\n",
       "      <td>7057</td>\n",
       "      <td>9810</td>\n",
       "      <td>9568</td>\n",
       "      <td>1762</td>\n",
       "      <td>3293</td>\n",
       "      <td>1776</td>\n",
       "      <td>3</td>\n",
       "      <td>count</td>\n",
       "    </tr>\n",
       "    <tr>\n",
       "      <th>2</th>\n",
       "      <td>1</td>\n",
       "      <td>3</td>\n",
       "      <td>13265</td>\n",
       "      <td>1196</td>\n",
       "      <td>4221</td>\n",
       "      <td>6404</td>\n",
       "      <td>507</td>\n",
       "      <td>1788</td>\n",
       "      <td>0</td>\n",
       "      <td>count</td>\n",
       "    </tr>\n",
       "    <tr>\n",
       "      <th>3</th>\n",
       "      <td>2</td>\n",
       "      <td>3</td>\n",
       "      <td>9413</td>\n",
       "      <td>8259</td>\n",
       "      <td>5126</td>\n",
       "      <td>666</td>\n",
       "      <td>1795</td>\n",
       "      <td>1451</td>\n",
       "      <td>0</td>\n",
       "      <td>count</td>\n",
       "    </tr>\n",
       "    <tr>\n",
       "      <th>4</th>\n",
       "      <td>2</td>\n",
       "      <td>3</td>\n",
       "      <td>12126</td>\n",
       "      <td>3199</td>\n",
       "      <td>6975</td>\n",
       "      <td>480</td>\n",
       "      <td>3140</td>\n",
       "      <td>545</td>\n",
       "      <td>0</td>\n",
       "      <td>count</td>\n",
       "    </tr>\n",
       "    <tr>\n",
       "      <th>...</th>\n",
       "      <td>...</td>\n",
       "      <td>...</td>\n",
       "      <td>...</td>\n",
       "      <td>...</td>\n",
       "      <td>...</td>\n",
       "      <td>...</td>\n",
       "      <td>...</td>\n",
       "      <td>...</td>\n",
       "      <td>...</td>\n",
       "      <td>...</td>\n",
       "    </tr>\n",
       "    <tr>\n",
       "      <th>402</th>\n",
       "      <td>1</td>\n",
       "      <td>3</td>\n",
       "      <td>29703</td>\n",
       "      <td>12051</td>\n",
       "      <td>16027</td>\n",
       "      <td>13135</td>\n",
       "      <td>182</td>\n",
       "      <td>2204</td>\n",
       "      <td>5</td>\n",
       "      <td>count</td>\n",
       "    </tr>\n",
       "    <tr>\n",
       "      <th>403</th>\n",
       "      <td>1</td>\n",
       "      <td>3</td>\n",
       "      <td>39228</td>\n",
       "      <td>1431</td>\n",
       "      <td>764</td>\n",
       "      <td>4510</td>\n",
       "      <td>93</td>\n",
       "      <td>2346</td>\n",
       "      <td>2</td>\n",
       "      <td>count</td>\n",
       "    </tr>\n",
       "    <tr>\n",
       "      <th>404</th>\n",
       "      <td>2</td>\n",
       "      <td>3</td>\n",
       "      <td>14531</td>\n",
       "      <td>15488</td>\n",
       "      <td>30243</td>\n",
       "      <td>437</td>\n",
       "      <td>14841</td>\n",
       "      <td>1867</td>\n",
       "      <td>1</td>\n",
       "      <td>count</td>\n",
       "    </tr>\n",
       "    <tr>\n",
       "      <th>405</th>\n",
       "      <td>1</td>\n",
       "      <td>3</td>\n",
       "      <td>10290</td>\n",
       "      <td>1981</td>\n",
       "      <td>2232</td>\n",
       "      <td>1038</td>\n",
       "      <td>168</td>\n",
       "      <td>2125</td>\n",
       "      <td>0</td>\n",
       "      <td>count</td>\n",
       "    </tr>\n",
       "    <tr>\n",
       "      <th>406</th>\n",
       "      <td>1</td>\n",
       "      <td>3</td>\n",
       "      <td>2787</td>\n",
       "      <td>1698</td>\n",
       "      <td>2510</td>\n",
       "      <td>65</td>\n",
       "      <td>477</td>\n",
       "      <td>52</td>\n",
       "      <td>7</td>\n",
       "      <td>count</td>\n",
       "    </tr>\n",
       "  </tbody>\n",
       "</table>\n",
       "<p>407 rows × 10 columns</p>\n",
       "</div>"
      ],
      "text/plain": [
       "     Channel  Region  Fresh   Milk  Grocery  Frozen  Detergents_Paper  \\\n",
       "0          2       3  12669   9656     7561     214              2674   \n",
       "1          2       3   7057   9810     9568    1762              3293   \n",
       "2          1       3  13265   1196     4221    6404               507   \n",
       "3          2       3   9413   8259     5126     666              1795   \n",
       "4          2       3  12126   3199     6975     480              3140   \n",
       "..       ...     ...    ...    ...      ...     ...               ...   \n",
       "402        1       3  29703  12051    16027   13135               182   \n",
       "403        1       3  39228   1431      764    4510                93   \n",
       "404        2       3  14531  15488    30243     437             14841   \n",
       "405        1       3  10290   1981     2232    1038               168   \n",
       "406        1       3   2787   1698     2510      65               477   \n",
       "\n",
       "     Delicassen  cluster      c  \n",
       "0          1338        0  count  \n",
       "1          1776        3  count  \n",
       "2          1788        0  count  \n",
       "3          1451        0  count  \n",
       "4           545        0  count  \n",
       "..          ...      ...    ...  \n",
       "402        2204        5  count  \n",
       "403        2346        2  count  \n",
       "404        1867        1  count  \n",
       "405        2125        0  count  \n",
       "406          52        7  count  \n",
       "\n",
       "[407 rows x 10 columns]"
      ]
     },
     "execution_count": 115,
     "metadata": {},
     "output_type": "execute_result"
    }
   ],
   "source": [
    "# this created a new column on the dataframe named c\n",
    "X[\"c\"] = \"count\"\n",
    "X"
   ]
  },
  {
   "cell_type": "code",
   "execution_count": 116,
   "id": "b975e407",
   "metadata": {},
   "outputs": [],
   "source": [
    "# cluster is the clustering results\n",
    "# Region is acting as target here\n",
    "# c is the count of Region per cluster\n",
    "clustering_result = X[[\"cluster\", \"Region\", \"c\"]].groupby([\"cluster\", \"Region\"]).agg(\"count\")"
   ]
  },
  {
   "cell_type": "code",
   "execution_count": 117,
   "id": "fcc3058d",
   "metadata": {},
   "outputs": [
    {
     "data": {
      "text/html": [
       "<div>\n",
       "<style scoped>\n",
       "    .dataframe tbody tr th:only-of-type {\n",
       "        vertical-align: middle;\n",
       "    }\n",
       "\n",
       "    .dataframe tbody tr th {\n",
       "        vertical-align: top;\n",
       "    }\n",
       "\n",
       "    .dataframe thead th {\n",
       "        text-align: right;\n",
       "    }\n",
       "</style>\n",
       "<table border=\"1\" class=\"dataframe\">\n",
       "  <thead>\n",
       "    <tr style=\"text-align: right;\">\n",
       "      <th></th>\n",
       "      <th></th>\n",
       "      <th>c</th>\n",
       "    </tr>\n",
       "    <tr>\n",
       "      <th>cluster</th>\n",
       "      <th>Region</th>\n",
       "      <th></th>\n",
       "    </tr>\n",
       "  </thead>\n",
       "  <tbody>\n",
       "    <tr>\n",
       "      <th rowspan=\"3\" valign=\"top\">0</th>\n",
       "      <th>1</th>\n",
       "      <td>16</td>\n",
       "    </tr>\n",
       "    <tr>\n",
       "      <th>2</th>\n",
       "      <td>13</td>\n",
       "    </tr>\n",
       "    <tr>\n",
       "      <th>3</th>\n",
       "      <td>78</td>\n",
       "    </tr>\n",
       "    <tr>\n",
       "      <th rowspan=\"3\" valign=\"top\">1</th>\n",
       "      <th>1</th>\n",
       "      <td>7</td>\n",
       "    </tr>\n",
       "    <tr>\n",
       "      <th>2</th>\n",
       "      <td>7</td>\n",
       "    </tr>\n",
       "    <tr>\n",
       "      <th>3</th>\n",
       "      <td>19</td>\n",
       "    </tr>\n",
       "    <tr>\n",
       "      <th rowspan=\"2\" valign=\"top\">2</th>\n",
       "      <th>1</th>\n",
       "      <td>2</td>\n",
       "    </tr>\n",
       "    <tr>\n",
       "      <th>3</th>\n",
       "      <td>17</td>\n",
       "    </tr>\n",
       "    <tr>\n",
       "      <th rowspan=\"3\" valign=\"top\">3</th>\n",
       "      <th>1</th>\n",
       "      <td>10</td>\n",
       "    </tr>\n",
       "    <tr>\n",
       "      <th>2</th>\n",
       "      <td>5</td>\n",
       "    </tr>\n",
       "    <tr>\n",
       "      <th>3</th>\n",
       "      <td>58</td>\n",
       "    </tr>\n",
       "    <tr>\n",
       "      <th rowspan=\"2\" valign=\"top\">4</th>\n",
       "      <th>2</th>\n",
       "      <td>1</td>\n",
       "    </tr>\n",
       "    <tr>\n",
       "      <th>3</th>\n",
       "      <td>2</td>\n",
       "    </tr>\n",
       "    <tr>\n",
       "      <th rowspan=\"3\" valign=\"top\">5</th>\n",
       "      <th>1</th>\n",
       "      <td>8</td>\n",
       "    </tr>\n",
       "    <tr>\n",
       "      <th>2</th>\n",
       "      <td>5</td>\n",
       "    </tr>\n",
       "    <tr>\n",
       "      <th>3</th>\n",
       "      <td>30</td>\n",
       "    </tr>\n",
       "    <tr>\n",
       "      <th>6</th>\n",
       "      <th>3</th>\n",
       "      <td>1</td>\n",
       "    </tr>\n",
       "    <tr>\n",
       "      <th rowspan=\"3\" valign=\"top\">7</th>\n",
       "      <th>1</th>\n",
       "      <td>28</td>\n",
       "    </tr>\n",
       "    <tr>\n",
       "      <th>2</th>\n",
       "      <td>13</td>\n",
       "    </tr>\n",
       "    <tr>\n",
       "      <th>3</th>\n",
       "      <td>87</td>\n",
       "    </tr>\n",
       "  </tbody>\n",
       "</table>\n",
       "</div>"
      ],
      "text/plain": [
       "                 c\n",
       "cluster Region    \n",
       "0       1       16\n",
       "        2       13\n",
       "        3       78\n",
       "1       1        7\n",
       "        2        7\n",
       "        3       19\n",
       "2       1        2\n",
       "        3       17\n",
       "3       1       10\n",
       "        2        5\n",
       "        3       58\n",
       "4       2        1\n",
       "        3        2\n",
       "5       1        8\n",
       "        2        5\n",
       "        3       30\n",
       "6       3        1\n",
       "7       1       28\n",
       "        2       13\n",
       "        3       87"
      ]
     },
     "execution_count": 117,
     "metadata": {},
     "output_type": "execute_result"
    }
   ],
   "source": [
    "clustering_result"
   ]
  },
  {
   "cell_type": "markdown",
   "id": "c1c65a7b",
   "metadata": {},
   "source": [
    "### DBSCAN Clustering"
   ]
  },
  {
   "cell_type": "code",
   "execution_count": 118,
   "id": "eec344f4",
   "metadata": {},
   "outputs": [
    {
     "data": {
      "text/plain": [
       "(407, 10)"
      ]
     },
     "execution_count": 118,
     "metadata": {},
     "output_type": "execute_result"
    }
   ],
   "source": [
    "dataset.shape"
   ]
  },
  {
   "cell_type": "code",
   "execution_count": 119,
   "id": "6eb50b3f",
   "metadata": {},
   "outputs": [],
   "source": [
    "dataset = dataset.iloc[:, 0:7].values"
   ]
  },
  {
   "cell_type": "code",
   "execution_count": 120,
   "id": "b9670e60",
   "metadata": {},
   "outputs": [
    {
     "data": {
      "text/plain": [
       "array([[    2,     3, 12669, ...,  7561,   214,  2674],\n",
       "       [    2,     3,  7057, ...,  9568,  1762,  3293],\n",
       "       [    1,     3, 13265, ...,  4221,  6404,   507],\n",
       "       ...,\n",
       "       [    2,     3, 14531, ..., 30243,   437, 14841],\n",
       "       [    1,     3, 10290, ...,  2232,  1038,   168],\n",
       "       [    1,     3,  2787, ...,  2510,    65,   477]], dtype=int64)"
      ]
     },
     "execution_count": 120,
     "metadata": {},
     "output_type": "execute_result"
    }
   ],
   "source": [
    "dataset"
   ]
  },
  {
   "cell_type": "code",
   "execution_count": 121,
   "id": "d3bb3698",
   "metadata": {},
   "outputs": [
    {
     "ename": "TypeError",
     "evalue": "scatter() got multiple values for argument 's'",
     "output_type": "error",
     "traceback": [
      "\u001b[1;31m---------------------------------------------------------------------------\u001b[0m",
      "\u001b[1;31mTypeError\u001b[0m                                 Traceback (most recent call last)",
      "\u001b[1;32m~\\AppData\\Local\\Temp/ipykernel_9180/2773693761.py\u001b[0m in \u001b[0;36m<module>\u001b[1;34m\u001b[0m\n\u001b[1;32m----> 1\u001b[1;33m \u001b[0mplt\u001b[0m\u001b[1;33m.\u001b[0m\u001b[0mscatter\u001b[0m\u001b[1;33m(\u001b[0m\u001b[0mdataset\u001b[0m\u001b[1;33m[\u001b[0m\u001b[1;33m:\u001b[0m\u001b[1;33m,\u001b[0m\u001b[1;36m0\u001b[0m\u001b[1;33m]\u001b[0m\u001b[1;33m,\u001b[0m \u001b[0mdataset\u001b[0m\u001b[1;33m[\u001b[0m\u001b[1;33m:\u001b[0m\u001b[1;33m,\u001b[0m\u001b[1;36m1\u001b[0m\u001b[1;33m]\u001b[0m\u001b[1;33m,\u001b[0m \u001b[0mdataset\u001b[0m\u001b[1;33m[\u001b[0m\u001b[1;33m:\u001b[0m\u001b[1;33m,\u001b[0m\u001b[1;36m2\u001b[0m\u001b[1;33m]\u001b[0m\u001b[1;33m,\u001b[0m \u001b[0mdataset\u001b[0m\u001b[1;33m[\u001b[0m\u001b[1;33m:\u001b[0m\u001b[1;33m,\u001b[0m\u001b[1;36m3\u001b[0m\u001b[1;33m]\u001b[0m\u001b[1;33m,\u001b[0m \u001b[0mdataset\u001b[0m\u001b[1;33m[\u001b[0m\u001b[1;33m:\u001b[0m\u001b[1;33m,\u001b[0m\u001b[1;36m4\u001b[0m\u001b[1;33m]\u001b[0m\u001b[1;33m,\u001b[0m \u001b[0mdataset\u001b[0m\u001b[1;33m[\u001b[0m\u001b[1;33m:\u001b[0m\u001b[1;33m,\u001b[0m\u001b[1;36m5\u001b[0m\u001b[1;33m]\u001b[0m\u001b[1;33m,\u001b[0m\u001b[0mdataset\u001b[0m\u001b[1;33m[\u001b[0m\u001b[1;33m:\u001b[0m\u001b[1;33m,\u001b[0m\u001b[1;36m6\u001b[0m\u001b[1;33m]\u001b[0m\u001b[1;33m,\u001b[0m \u001b[0ms\u001b[0m\u001b[1;33m=\u001b[0m\u001b[1;36m5\u001b[0m\u001b[1;33m,\u001b[0m \u001b[0mc\u001b[0m\u001b[1;33m=\u001b[0m\u001b[1;34m\"black\"\u001b[0m \u001b[1;33m)\u001b[0m\u001b[1;33m\u001b[0m\u001b[1;33m\u001b[0m\u001b[0m\n\u001b[0m",
      "\u001b[1;31mTypeError\u001b[0m: scatter() got multiple values for argument 's'"
     ]
    }
   ],
   "source": [
    "plt.scatter(dataset[:,0], dataset[:,1], dataset[:,2], dataset[:,3], dataset[:,4], dataset[:,5],dataset[:,6], s=5, c=\"black\" )"
   ]
  },
  {
   "cell_type": "code",
   "execution_count": null,
   "id": "29bdbd08",
   "metadata": {},
   "outputs": [],
   "source": []
  }
 ],
 "metadata": {
  "kernelspec": {
   "display_name": "Python 3 (ipykernel)",
   "language": "python",
   "name": "python3"
  },
  "language_info": {
   "codemirror_mode": {
    "name": "ipython",
    "version": 3
   },
   "file_extension": ".py",
   "mimetype": "text/x-python",
   "name": "python",
   "nbconvert_exporter": "python",
   "pygments_lexer": "ipython3",
   "version": "3.9.7"
  }
 },
 "nbformat": 4,
 "nbformat_minor": 5
}
